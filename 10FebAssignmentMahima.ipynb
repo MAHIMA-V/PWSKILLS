{
 "cells": [
  {
   "cell_type": "markdown",
   "metadata": {},
   "source": [
    "Q1. Which function is used to open a file? What are the different modes of opening a file? Explain each mode of file opening.\n",
    "\n"
   ]
  },
  {
   "cell_type": "markdown",
   "metadata": {},
   "source": [
    "Files an be opened with a built-in open() function\n",
    "Syntax : open(file_address, access_mode)\n",
    "\n",
    "`The different modes of opening a file`\n",
    "- Read Only\t(r) ->\tOpen text file for reading only.\n",
    "- Read and Write (r+) ->  Open the file for reading and writing.\n",
    "- Write Only (w) ->  Open the file for writing.\n",
    "- Write and Read (w+) ->  Open the file for reading and writing. Unlike “r+” is doesn’t raise an I/O error if file doesn’t exist.\n",
    "- Append Only (a) ->  Open the file for writing and creates new file if it doesn’t exist. All additions are made at the end of the file and no existing data can be modified.\n",
    "- Append and Read (a+) -> Open the file for reading and writing and creates new file if it doesn’t exist. All additions are made at the end of the file and no existing data can be modified.\n",
    "\n",
    "\n",
    "1. In ‘r’ mode, the file opens in the read only mode. By default, if we don’t specify the mode argument, it will be treated as read or ‘r’ mode."
   ]
  },
  {
   "cell_type": "code",
   "execution_count": 9,
   "metadata": {},
   "outputs": [
    {
     "data": {
      "text/plain": [
       "'This is test.txt\\n'"
      ]
     },
     "execution_count": 9,
     "metadata": {},
     "output_type": "execute_result"
    }
   ],
   "source": [
    "# r mode example\n",
    "# Reading a file\n",
    "f = open('test.txt', 'r')\n",
    "\n",
    "#read()\n",
    "f.read()"
   ]
  },
  {
   "cell_type": "markdown",
   "metadata": {},
   "source": [
    "2. In the ‘w’ mode, the file opens in write mode. It removes existing content, if present, in the file. If the specified file doesn’t exist, it creates one with the specified name."
   ]
  },
  {
   "cell_type": "code",
   "execution_count": 8,
   "metadata": {},
   "outputs": [],
   "source": [
    "# Writing a file\n",
    "f = open('test.txt', 'w')\n",
    "\n",
    "#write()\n",
    "f.write(\"This is test.txt\\n\")\n",
    "f.close()"
   ]
  },
  {
   "cell_type": "markdown",
   "metadata": {},
   "source": [
    "3. In the ‘a’ mode, the file opens in append mode. It adds content to an existing file (or append at the end of the file). If the specified file doesn’t exist, it creates one with the specified name."
   ]
  },
  {
   "cell_type": "code",
   "execution_count": 11,
   "metadata": {},
   "outputs": [],
   "source": [
    "# Appending a file\n",
    "f = open('test1.txt', 'a')\n",
    "\n",
    "f.write(\"This is append mode\\n\")\n",
    "f.close()"
   ]
  },
  {
   "cell_type": "markdown",
   "metadata": {},
   "source": [
    "4.  In the ‘r+’ mode, the file opens in the read & write mode. It does not remove existing content, if present, in the file and does not create a file if not present in the directory. "
   ]
  },
  {
   "cell_type": "code",
   "execution_count": 18,
   "metadata": {},
   "outputs": [
    {
     "name": "stdout",
     "output_type": "stream",
     "text": [
      "This is append mode\n",
      "\n"
     ]
    }
   ],
   "source": [
    "# Reading and Writing a file with r+ mode\n",
    "file = open('test1.txt', 'r+')\n",
    "lines = file.read()\n",
    "print(lines)\n",
    "file.write(lines)\n",
    "file.close()"
   ]
  },
  {
   "cell_type": "markdown",
   "metadata": {},
   "source": [
    "5. In the ‘w+’ mode, open the file in the read & write mode & remove existing content. If the file doesn’t exist, it creates a new one. It does not remove existing content & if a file doesn’t exist, it creates a new one"
   ]
  },
  {
   "cell_type": "code",
   "execution_count": 19,
   "metadata": {},
   "outputs": [],
   "source": [
    "# Writing and Reading a file\n",
    "file = open('test1.txt', 'w+')\n",
    "lines = file.read()\n",
    "file.write('This is w+ mode\\n')\n",
    "file.close()"
   ]
  },
  {
   "cell_type": "markdown",
   "metadata": {},
   "source": [
    "6. a+: Opens a file for both appending and reading"
   ]
  },
  {
   "cell_type": "code",
   "execution_count": 20,
   "metadata": {},
   "outputs": [],
   "source": [
    "# Appending and reading a file\n",
    "file = open('test1.txt', 'a+')\n",
    "lines = file.read()\n",
    "file.write('This is a+ mode\\n')\n",
    "file.close()"
   ]
  },
  {
   "cell_type": "code",
   "execution_count": null,
   "metadata": {},
   "outputs": [],
   "source": []
  },
  {
   "cell_type": "markdown",
   "metadata": {},
   "source": [
    "Q2. Why close() function is used? Why is it important to close a file?"
   ]
  },
  {
   "cell_type": "markdown",
   "metadata": {},
   "source": [
    "It is always a good practice to close a file after performing desired operations to it. Thus makes sure that all our changes have been saved to the file. \n",
    "Closing is done with .close() method"
   ]
  },
  {
   "cell_type": "code",
   "execution_count": 13,
   "metadata": {},
   "outputs": [
    {
     "name": "stdout",
     "output_type": "stream",
     "text": [
      "This is test.txt\n",
      "\n"
     ]
    }
   ],
   "source": [
    "# Opening file in read mode\n",
    "file = open('test.txt', 'r')\n",
    "\n",
    "#reading file and printing results\n",
    "text = file.read()\n",
    "print(text)\n",
    "\n",
    "# Closing the file\n",
    "file.close()"
   ]
  },
  {
   "cell_type": "code",
   "execution_count": null,
   "metadata": {},
   "outputs": [],
   "source": []
  },
  {
   "cell_type": "markdown",
   "metadata": {},
   "source": [
    "Q3. Write a python program to create a text file. Write ‘I want to become a Data Scientist’ in that file. Then close the file. Open this file and read the content of the file.\n"
   ]
  },
  {
   "cell_type": "code",
   "execution_count": 21,
   "metadata": {},
   "outputs": [],
   "source": [
    "# Opening a file in write mode\n",
    "f = open('test.txt','w')\n",
    "# Writing the file in write mode\n",
    "f.write('I want to become a Data Scientist')\n",
    "# Closing the file\n",
    "f.close()"
   ]
  },
  {
   "cell_type": "code",
   "execution_count": 22,
   "metadata": {},
   "outputs": [
    {
     "name": "stdout",
     "output_type": "stream",
     "text": [
      "I want to become a Data Scientist\n"
     ]
    }
   ],
   "source": [
    "# Opening file in read mode\n",
    "f = open('test.txt','r')\n",
    "# Reading the file\n",
    "lines = f.read()\n",
    "print(lines)\n",
    "# Closing the file\n",
    "f.close()"
   ]
  },
  {
   "cell_type": "code",
   "execution_count": null,
   "metadata": {},
   "outputs": [],
   "source": []
  },
  {
   "cell_type": "markdown",
   "metadata": {},
   "source": [
    "Q4. Explain the following with python code: read(), readline() and readlines().\n"
   ]
  },
  {
   "cell_type": "markdown",
   "metadata": {},
   "source": [
    "\n",
    "1. The read() method returns the specified number of bytes from the file. Default is -1 which means the whole file."
   ]
  },
  {
   "cell_type": "code",
   "execution_count": 23,
   "metadata": {},
   "outputs": [
    {
     "name": "stdout",
     "output_type": "stream",
     "text": [
      "This is w+ mode\n",
      "This is a+ mode\n",
      "\n"
     ]
    }
   ],
   "source": [
    "file = open('test1.txt','r')\n",
    "print(file.read())\n",
    "file.close()"
   ]
  },
  {
   "cell_type": "code",
   "execution_count": 26,
   "metadata": {},
   "outputs": [
    {
     "name": "stdout",
     "output_type": "stream",
     "text": [
      "This is w+\n"
     ]
    }
   ],
   "source": [
    "file = open('test1.txt','r')\n",
    "print(file.read(10))\n",
    "file.close()"
   ]
  },
  {
   "cell_type": "markdown",
   "metadata": {},
   "source": [
    "2. The readline() method returns one line from the file. You can also specified how many bytes from the line to return, by using the size parameter."
   ]
  },
  {
   "cell_type": "code",
   "execution_count": 28,
   "metadata": {},
   "outputs": [
    {
     "name": "stdout",
     "output_type": "stream",
     "text": [
      "This is w+ mode\n",
      "\n"
     ]
    }
   ],
   "source": [
    "file = open('test1.txt','r')\n",
    "print(file.readline())\n",
    "file.close()"
   ]
  },
  {
   "cell_type": "markdown",
   "metadata": {},
   "source": [
    "3. The readlines() method returns a list containing each line in the file as a list item."
   ]
  },
  {
   "cell_type": "code",
   "execution_count": 29,
   "metadata": {},
   "outputs": [
    {
     "name": "stdout",
     "output_type": "stream",
     "text": [
      "['This is w+ mode\\n', 'This is a+ mode\\n']\n"
     ]
    }
   ],
   "source": [
    "file = open('test1.txt','r')\n",
    "print(file.readlines())\n",
    "file.close()"
   ]
  },
  {
   "cell_type": "code",
   "execution_count": null,
   "metadata": {},
   "outputs": [],
   "source": []
  },
  {
   "cell_type": "markdown",
   "metadata": {},
   "source": [
    "Q5. Explain why with statement is used with open(). What is the advantage of using with statement and open() together.\n"
   ]
  },
  {
   "cell_type": "markdown",
   "metadata": {},
   "source": [
    "In Python, with statement is used in exception handling to make the code cleaner and much more readable. It simplifies the management of common resources like file streams.\n",
    "\n",
    "`Advantage is : unlike the previous implementations, there is no need to call file.close()`\n",
    "\n",
    "It is guaranteed to close the file no matter how the nested block exits. If an exception occurs before the end of the block, it will close the file before the exception is caught by an outer exception handler."
   ]
  },
  {
   "cell_type": "code",
   "execution_count": 31,
   "metadata": {},
   "outputs": [],
   "source": [
    "# using with statement\n",
    "with open('test2.txt', 'w') as f:\n",
    "\tf.write('This is file created using with statement')"
   ]
  },
  {
   "cell_type": "code",
   "execution_count": 32,
   "metadata": {},
   "outputs": [
    {
     "name": "stdout",
     "output_type": "stream",
     "text": [
      "This is file created using with statement\n"
     ]
    }
   ],
   "source": [
    "# Using the above file using with statement and reading the file\n",
    "with open('test2.txt','r') as f:\n",
    "    print(f.read())"
   ]
  },
  {
   "cell_type": "code",
   "execution_count": null,
   "metadata": {},
   "outputs": [],
   "source": []
  },
  {
   "cell_type": "markdown",
   "metadata": {},
   "source": [
    "Q6. Explain the write() and writelines() functions. Give a suitable example\n"
   ]
  },
  {
   "cell_type": "markdown",
   "metadata": {},
   "source": [
    "\n",
    "1. The write() function will write the content in the file without adding any extra characters.<br>\n",
    " While writing data to a file, we must know that the write function does not add a newline character(\\n) to the end of the string.<br>\n",
    " The write() function returns None."
   ]
  },
  {
   "cell_type": "code",
   "execution_count": 42,
   "metadata": {},
   "outputs": [],
   "source": [
    "with open(\"Songs.txt\", \"w\") as songs_file:\n",
    "    song_list = ['Coco Loco','Hawai','Rumba', 'Corazon']\n",
    "\n",
    "    for i in song_list:\n",
    "        songs_file.write(f'Added {i} to the playlist')\n",
    "        songs_file.write(\"\\n\")\n",
    "\t\n",
    "    songs_file.close()"
   ]
  },
  {
   "cell_type": "code",
   "execution_count": 43,
   "metadata": {},
   "outputs": [
    {
     "name": "stdout",
     "output_type": "stream",
     "text": [
      "Added Coco Loco to the playlist\n",
      "Added Hawai to the playlist\n",
      "Added Rumba to the playlist\n",
      "Added Corazon to the playlist\n",
      "\n"
     ]
    }
   ],
   "source": [
    "with open('Songs.txt','r') as songs_file:\n",
    "    print(songs_file.read())"
   ]
  },
  {
   "cell_type": "markdown",
   "metadata": {},
   "source": [
    "2. writelines(): This function writes the content of a list to a file.<br>\n",
    "the list of strings that is passed to the writelines() function is written into the opened file.<br>\n",
    "Similar to the write() function, the writelines() function does not add a newline character(\\n) to the end of the string"
   ]
  },
  {
   "cell_type": "code",
   "execution_count": 44,
   "metadata": {},
   "outputs": [],
   "source": [
    "song_list2 = ['Bailando','El bano']\n",
    "# Adding \\n character to each element in list\n",
    "lst = []\n",
    "for i in song_list2:\n",
    "    lst.append(i + '\\n')\n",
    "# Writing with writelines\n",
    "with open('Songs2.txt','w') as songs_file2:\n",
    "    songs_file2.writelines(lst)"
   ]
  },
  {
   "cell_type": "code",
   "execution_count": 45,
   "metadata": {},
   "outputs": [
    {
     "name": "stdout",
     "output_type": "stream",
     "text": [
      "Bailando\n",
      "El bano\n",
      "\n"
     ]
    }
   ],
   "source": [
    "with open('Songs2.txt','r') as songs_file2:\n",
    "    print(songs_file2.read())"
   ]
  },
  {
   "cell_type": "code",
   "execution_count": null,
   "metadata": {},
   "outputs": [],
   "source": []
  }
 ],
 "metadata": {
  "kernelspec": {
   "display_name": "Python 3 (ipykernel)",
   "language": "python",
   "name": "python3"
  },
  "language_info": {
   "codemirror_mode": {
    "name": "ipython",
    "version": 3
   },
   "file_extension": ".py",
   "mimetype": "text/x-python",
   "name": "python",
   "nbconvert_exporter": "python",
   "pygments_lexer": "ipython3",
   "version": "3.10.8"
  },
  "vscode": {
   "interpreter": {
    "hash": "27149e82490bdaa27222c4e29544e396278d224a9f42010d392c3451ce079b12"
   }
  }
 },
 "nbformat": 4,
 "nbformat_minor": 4
}

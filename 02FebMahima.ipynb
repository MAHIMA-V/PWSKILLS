{
 "cells": [
  {
   "cell_type": "markdown",
   "id": "f208d486-a5ef-4a31-88eb-8c3d4c912343",
   "metadata": {},
   "source": [
    "Q1. Explain with an example each when to use a for loop and a while loop.\n",
    "- for loop: A for loop is a control flow statement that executes code repeatedly for a specified number of iterations.\n",
    "- while loop: While loop: A loop that executes a single statement or a group of statements for the given true condition. The keyword used to represent this loop is \"while\". A \"while\" loop is used when the number of iterations is unknown. The statement repeats itself till the boolean value becomes false. In a while loop, the condition is tested at the start, also known as the pre-test loop. "
   ]
  },
  {
   "cell_type": "code",
   "execution_count": 6,
   "id": "e399d389-36f2-465a-9e56-c20f21299b67",
   "metadata": {},
   "outputs": [
    {
     "name": "stdout",
     "output_type": "stream",
     "text": [
      "0 1 2 3 4 \n",
      "\n",
      "5 4 3 2 1 "
     ]
    }
   ],
   "source": [
    "\n",
    "for i in range(5):  \n",
    "    print(i, end=\" \")\n",
    "\n",
    "print('\\n')\n",
    "\n",
    "num = 5\n",
    "while num > 0:\n",
    "    print(num,  end=\" \")\n",
    "    num -= 1"
   ]
  },
  {
   "cell_type": "markdown",
   "id": "a0f78bcc-fde7-4253-b6f6-a760e30a14c6",
   "metadata": {},
   "source": [
    "Q2. Write a python program to print the sum and product of the first 10 natural numbers using for\n",
    "and while loop."
   ]
  },
  {
   "cell_type": "code",
   "execution_count": 13,
   "id": "ee0bca4b-84b1-49ba-aff2-ac395cf9995e",
   "metadata": {},
   "outputs": [
    {
     "name": "stdout",
     "output_type": "stream",
     "text": [
      "Sum of first 10 natural numbers is 55\n",
      "Product of first 10 natural numbers is 3628800\n"
     ]
    }
   ],
   "source": [
    "# using for loop\n",
    "sum_ = 0\n",
    "product = 1\n",
    "for i in range(1,11):\n",
    "    sum_ += i\n",
    "    product *= i\n",
    "\n",
    "print(f\"Sum of first 10 natural numbers is {sum_}\")\n",
    "print(f\"Product of first 10 natural numbers is {product}\")"
   ]
  },
  {
   "cell_type": "code",
   "execution_count": 19,
   "id": "d4546956-09a2-487e-9535-8e84a2cc3c5e",
   "metadata": {},
   "outputs": [
    {
     "name": "stdout",
     "output_type": "stream",
     "text": [
      "Sum of first 10 natural numbers is 55\n",
      "Product of first 10 natural numbers is 3628800\n"
     ]
    }
   ],
   "source": [
    "#using while loop\n",
    "sum_ = 0\n",
    "product = 1\n",
    "i = 1\n",
    "while i <= 10:\n",
    "    sum_ += i\n",
    "    product *= i\n",
    "    i += 1\n",
    "\n",
    "print(f\"Sum of first 10 natural numbers is {sum_}\")\n",
    "print(f\"Product of first 10 natural numbers is {product}\")"
   ]
  },
  {
   "cell_type": "markdown",
   "id": "93b01ddf-c425-433c-ba3e-54befae05e48",
   "metadata": {},
   "source": [
    "Q3. Create a python program to compute the electricity bill for a household.\n",
    "\n",
    "The per-unit charges in rupees are as follows: For the first 100 units, the user will be charged Rs. 4.5 per\n",
    "unit, for the next 100 units, the user will be charged Rs. 6 per unit, and for the next 100 units, the user will\n",
    "be charged Rs. 10 per unit, After 300 units and above the user will be charged Rs. 20 per unit.\n",
    "\n",
    "You are required to take the units of electricity consumed in a month from the user as input.\n",
    "Your program must pass this test case: when the unit of electricity consumed by the user in a month is\n",
    "310, the total electricity bill should be 2250."
   ]
  },
  {
   "cell_type": "code",
   "execution_count": 23,
   "id": "be25c556-b5b0-4885-91fc-d62fbc50d12f",
   "metadata": {},
   "outputs": [
    {
     "name": "stdin",
     "output_type": "stream",
     "text": [
      "Enter the number of units of electricity consumed  210\n"
     ]
    },
    {
     "name": "stdout",
     "output_type": "stream",
     "text": [
      "Electricity bill is Rs 1150.0\n"
     ]
    }
   ],
   "source": [
    "unit_of_electricity = float(input(\"Enter the number of units of electricity consumed \"))\n",
    "bill = 0\n",
    "if unit_of_electricity <= 100:\n",
    "    bill = 4.5 * unit_of_electricity\n",
    "elif unit_of_electricity <= 200:\n",
    "    bill = 4.5 * 100 + 6 * (unit_of_electricity - 100)\n",
    "elif unit_of_electricity <= 300:\n",
    "    bill = 4.5 * 100 + 6 * 100 + 10 * (unit_of_electricity - 200)\n",
    "else: \n",
    "    bill = 4.5 * 100 + 6 * 100 + 10 * 100 + 20 * (unit_of_electricity - 300)\n",
    "\n",
    "print(f\"Electricity bill is Rs {bill}\")"
   ]
  },
  {
   "cell_type": "markdown",
   "id": "3a34256c-8cc4-4c77-9fdb-e54a18bea83d",
   "metadata": {},
   "source": [
    "Q4. Create a list of numbers from 1 to 100. Use for loop and while loop to calculate the cube of each\n",
    "number and if the cube of that number is divisible by 4 or 5 then append that number in a list and print\n",
    "that list."
   ]
  },
  {
   "cell_type": "code",
   "execution_count": 26,
   "id": "c0511edd-adaf-4533-a617-b4d220f5e1d9",
   "metadata": {},
   "outputs": [
    {
     "name": "stdout",
     "output_type": "stream",
     "text": [
      "[8, 64, 125, 216, 512, 1000, 1728, 2744, 3375, 4096, 5832, 8000, 10648, 13824, 15625, 17576, 21952, 27000, 32768, 39304, 42875, 46656, 54872, 64000, 74088, 85184, 91125, 97336, 110592, 125000, 140608, 157464, 166375, 175616, 195112, 216000, 238328, 262144, 274625, 287496, 314432, 343000, 373248, 405224, 421875, 438976, 474552, 512000, 551368, 592704, 614125, 636056, 681472, 729000, 778688, 830584, 857375, 884736, 941192, 1000000]\n"
     ]
    }
   ],
   "source": [
    "#Using for loop\n",
    "l1 = list(range(1, 101))\n",
    "l2 = []\n",
    "for i in l1:\n",
    "    number = i**3\n",
    "    if number % 4 == 0 or number % 5 == 0:\n",
    "        l2.append(number)\n",
    "          \n",
    "print(l2)\n",
    "    "
   ]
  },
  {
   "cell_type": "code",
   "execution_count": 27,
   "id": "d3dd5e32-0198-4ec5-afd0-a7a39db43f68",
   "metadata": {},
   "outputs": [
    {
     "name": "stdout",
     "output_type": "stream",
     "text": [
      "[8, 64, 125, 216, 512, 1000, 1728, 2744, 3375, 4096, 5832, 8000, 10648, 13824, 15625, 17576, 21952, 27000, 32768, 39304, 42875, 46656, 54872, 64000, 74088, 85184, 91125, 97336, 110592, 125000, 140608, 157464, 166375, 175616, 195112, 216000, 238328, 262144, 274625, 287496, 314432, 343000, 373248, 405224, 421875, 438976, 474552, 512000, 551368, 592704, 614125, 636056, 681472, 729000, 778688, 830584, 857375, 884736, 941192, 1000000]\n"
     ]
    }
   ],
   "source": [
    "#Using while loop\n",
    "l1 = list(range(1, 101))\n",
    "i = 1\n",
    "l2 = []\n",
    "while i <= 100:\n",
    "    number = i**3\n",
    "    if number % 4 == 0 or number % 5 == 0:\n",
    "        l2.append(number)\n",
    "    i += 1\n",
    "          \n",
    "print(l2)"
   ]
  },
  {
   "cell_type": "markdown",
   "id": "66bbf187-f2ad-41de-b570-d93da38c1b78",
   "metadata": {},
   "source": [
    "Q5. Write a program to filter count vowels in the below-given string.\n",
    "string = \"I want to become a data scientist\""
   ]
  },
  {
   "cell_type": "code",
   "execution_count": 33,
   "id": "ba658082-cd93-488c-9daa-6418e88c264c",
   "metadata": {},
   "outputs": [
    {
     "name": "stdout",
     "output_type": "stream",
     "text": [
      "There are 12 vowels in given string. Those are: \n",
      "['I', 'a', 'o', 'e', 'o', 'e', 'a', 'a', 'a', 'i', 'e', 'i']\n"
     ]
    }
   ],
   "source": [
    "string = \"I want to become a data scientist\"\n",
    "vowels = 'AEIOUaeiou'\n",
    "counter = 0\n",
    "l_string_vowel = []\n",
    "for i in string:\n",
    "    if i in vowels:\n",
    "        counter += 1\n",
    "        l_string_vowel.append(i)\n",
    "print(f\"There are {counter} vowels in given string. Those are: \")\n",
    "print(l_string_vowel)"
   ]
  },
  {
   "cell_type": "code",
   "execution_count": null,
   "id": "0ac03d15-cbd7-4318-b06a-0ba1173b0358",
   "metadata": {},
   "outputs": [],
   "source": []
  }
 ],
 "metadata": {
  "kernelspec": {
   "display_name": "Python 3 (ipykernel)",
   "language": "python",
   "name": "python3"
  },
  "language_info": {
   "codemirror_mode": {
    "name": "ipython",
    "version": 3
   },
   "file_extension": ".py",
   "mimetype": "text/x-python",
   "name": "python",
   "nbconvert_exporter": "python",
   "pygments_lexer": "ipython3",
   "version": "3.10.8"
  }
 },
 "nbformat": 4,
 "nbformat_minor": 5
}

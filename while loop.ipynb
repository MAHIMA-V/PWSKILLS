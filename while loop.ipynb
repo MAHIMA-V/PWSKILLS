{
 "cells": [
  {
   "cell_type": "code",
   "execution_count": 1,
   "id": "7b0f9dd8-381c-497c-8171-b6fcf5ca0bb9",
   "metadata": {},
   "outputs": [
    {
     "name": "stdout",
     "output_type": "stream",
     "text": [
      "1\n",
      "2\n",
      "3\n",
      "4\n",
      "5\n",
      "6\n",
      "7\n",
      "8\n",
      "9\n",
      "10\n"
     ]
    }
   ],
   "source": [
    "a = 1\n",
    "while a <= 10 :\n",
    "    print(a)\n",
    "    a = a+1"
   ]
  },
  {
   "cell_type": "code",
   "execution_count": 2,
   "id": "d33810e1-fc10-4cfb-9dac-14bcc2fe5ff8",
   "metadata": {},
   "outputs": [
    {
     "name": "stdin",
     "output_type": "stream",
     "text": [
      "enter the number 5\n"
     ]
    },
    {
     "data": {
      "text/plain": [
       "15"
      ]
     },
     "execution_count": 2,
     "metadata": {},
     "output_type": "execute_result"
    }
   ],
   "source": [
    "#sum up the number till some point \n",
    "number = int(input(\"enter the number\"))\n",
    "starting_point = 0\n",
    "counter = 1\n",
    "\n",
    "while counter <= number:\n",
    "    starting_point = starting_point + counter\n",
    "    counter = counter + 1\n",
    "starting_point"
   ]
  },
  {
   "cell_type": "code",
   "execution_count": 3,
   "id": "c2ee2c29-f630-488c-9936-4d0fa4a753be",
   "metadata": {},
   "outputs": [
    {
     "name": "stdin",
     "output_type": "stream",
     "text": [
      "enter the number 7\n"
     ]
    },
    {
     "data": {
      "text/plain": [
       "5040"
      ]
     },
     "execution_count": 3,
     "metadata": {},
     "output_type": "execute_result"
    }
   ],
   "source": [
    "number = int(input(\"enter the number\"))\n",
    "factorial = 1\n",
    "counter = 1\n",
    "\n",
    "while number > 0:\n",
    "    factorial = number * factorial \n",
    "    number -= 1\n",
    "factorial "
   ]
  },
  {
   "cell_type": "markdown",
   "id": "e472f585-e2c5-4647-982a-bc200b8c7045",
   "metadata": {},
   "source": [
    "fibonacci series"
   ]
  },
  {
   "cell_type": "code",
   "execution_count": 4,
   "id": "b9c4af2c-e3eb-4ebd-93ff-4b639a448e4f",
   "metadata": {},
   "outputs": [
    {
     "name": "stdin",
     "output_type": "stream",
     "text": [
      "enter the number of terms you want 10\n"
     ]
    },
    {
     "name": "stdout",
     "output_type": "stream",
     "text": [
      "0\n",
      "1\n",
      "1\n",
      "2\n",
      "3\n",
      "5\n",
      "8\n",
      "13\n",
      "21\n",
      "34\n"
     ]
    }
   ],
   "source": [
    "number = int(input(\"enter the number of terms you want\"))\n",
    "first_term = 0\n",
    "second_term = 1\n",
    "\n",
    "if number == 1:\n",
    "    print(first_term)\n",
    "    \n",
    "print(first_term)\n",
    "print(second_term)\n",
    "while number > 2:\n",
    "    next_term = first_term + second_term \n",
    "    print(next_term)\n",
    "    first_term = second_term \n",
    "    second_term = next_term\n",
    "    number -= 1"
   ]
  },
  {
   "cell_type": "code",
   "execution_count": 5,
   "id": "59b4551f-0504-4752-9428-dda83875cff2",
   "metadata": {},
   "outputs": [
    {
     "name": "stdin",
     "output_type": "stream",
     "text": [
      "enter the number of terms you want 10\n"
     ]
    },
    {
     "name": "stdout",
     "output_type": "stream",
     "text": [
      "0\n",
      "1\n",
      "1\n",
      "2\n",
      "3\n",
      "5\n",
      "8\n",
      "13\n",
      "21\n",
      "34\n"
     ]
    }
   ],
   "source": [
    "number = int(input(\"enter the number of terms you want\"))\n",
    "first_term = 0\n",
    "second_term = 1\n",
    "\n",
    "if number == 1:\n",
    "    print(first_term)\n",
    "    \n",
    "print(first_term)\n",
    "print(second_term)\n",
    "for i in range(number-2):\n",
    "    next_term = first_term + second_term \n",
    "    print(next_term)\n",
    "    first_term = second_term \n",
    "    second_term = next_term\n",
    "    "
   ]
  },
  {
   "cell_type": "code",
   "execution_count": 6,
   "id": "7a993427-269a-4846-b533-ad94ba604129",
   "metadata": {},
   "outputs": [
    {
     "name": "stdin",
     "output_type": "stream",
     "text": [
      "enter your string for reversal mahima\n"
     ]
    },
    {
     "name": "stdout",
     "output_type": "stream",
     "text": [
      "amiham\n"
     ]
    }
   ],
   "source": [
    "word = input(\"enter your string for reversal\")\n",
    "reverse = \"\"\n",
    "length = len(word)\n",
    "for i in range(length):\n",
    "    reverse = reverse + word[length - 1]\n",
    "    length = length - 1\n",
    "print(reverse)\n"
   ]
  },
  {
   "cell_type": "code",
   "execution_count": 7,
   "id": "1f3990ca-9c78-423f-a651-f70d67f5fb2c",
   "metadata": {},
   "outputs": [
    {
     "name": "stdin",
     "output_type": "stream",
     "text": [
      "enter your string for reversal amiham\n"
     ]
    },
    {
     "name": "stdout",
     "output_type": "stream",
     "text": [
      "mahima\n"
     ]
    }
   ],
   "source": [
    "word = input(\"enter your string for reversal\")\n",
    "reverse = \"\"\n",
    "length = len(word)\n",
    "while length > 0:\n",
    "    reverse = reverse + word[length - 1]\n",
    "    length = length - 1\n",
    "print(reverse)\n"
   ]
  },
  {
   "cell_type": "code",
   "execution_count": null,
   "id": "5a1943f0-8deb-46bc-b7c6-8f1989c035b5",
   "metadata": {},
   "outputs": [],
   "source": []
  },
  {
   "cell_type": "code",
   "execution_count": 10,
   "id": "40904401-1186-4164-a9ec-9b08a91c5ed6",
   "metadata": {},
   "outputs": [
    {
     "name": "stdin",
     "output_type": "stream",
     "text": [
      "Enter the number 2\n"
     ]
    },
    {
     "name": "stdout",
     "output_type": "stream",
     "text": [
      "2 * 1 = 2\n",
      "2 * 2 = 4\n",
      "2 * 3 = 6\n",
      "2 * 4 = 8\n",
      "2 * 5 = 10\n",
      "2 * 6 = 12\n",
      "2 * 7 = 14\n",
      "2 * 8 = 16\n",
      "2 * 9 = 18\n",
      "2 * 10 = 20\n"
     ]
    }
   ],
   "source": [
    "#PRINT TABLE OF GIVEN NUMBER\n",
    "number = int(input(\"Enter the number\"))\n",
    "i = 1\n",
    "\n",
    "while i <= 10:\n",
    "    print(f\"{number} * {i} = {number*i}\")\n",
    "    i += 1"
   ]
  },
  {
   "cell_type": "code",
   "execution_count": 12,
   "id": "a62d2361-68ec-4627-a7e0-788777ac49c9",
   "metadata": {},
   "outputs": [
    {
     "name": "stdout",
     "output_type": "stream",
     "text": [
      "1\n",
      "2\n",
      "3\n",
      "4\n",
      "This will be executed once your while will complete it sucessfully\n"
     ]
    }
   ],
   "source": [
    "n = 5\n",
    "i = 1\n",
    "while i < n:\n",
    "    print(i)\n",
    "    i = i + 1\n",
    "else:\n",
    "    print(\"This will be executed once your while will complete it sucessfully\")"
   ]
  },
  {
   "cell_type": "code",
   "execution_count": 14,
   "id": "849b2878-f3cf-458a-a2e7-a3b626210fbd",
   "metadata": {},
   "outputs": [
    {
     "name": "stdout",
     "output_type": "stream",
     "text": [
      "1\n",
      "2\n",
      "3\n"
     ]
    }
   ],
   "source": [
    "n = 5\n",
    "i = 1\n",
    "while i < n:\n",
    "    print(i)\n",
    "    if i == 3:\n",
    "        break\n",
    "    i = i + 1\n",
    "else:\n",
    "    print(\"This will be executed once your while will complete it sucessfully\")"
   ]
  },
  {
   "cell_type": "code",
   "execution_count": null,
   "id": "8c51ce31-a002-449e-9cd6-641395a8a0dd",
   "metadata": {},
   "outputs": [],
   "source": []
  }
 ],
 "metadata": {
  "kernelspec": {
   "display_name": "Python 3 (ipykernel)",
   "language": "python",
   "name": "python3"
  },
  "language_info": {
   "codemirror_mode": {
    "name": "ipython",
    "version": 3
   },
   "file_extension": ".py",
   "mimetype": "text/x-python",
   "name": "python",
   "nbconvert_exporter": "python",
   "pygments_lexer": "ipython3",
   "version": "3.10.8"
  }
 },
 "nbformat": 4,
 "nbformat_minor": 5
}

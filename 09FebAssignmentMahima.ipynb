{
 "cells": [
  {
   "cell_type": "markdown",
   "id": "da582d20-fc60-45da-ac5d-17d4aa8518f3",
   "metadata": {},
   "source": [
    "Q1. Create a vehicle class with an init method having instance variables as name_of_vehicle, max_speed\n",
    "and average_of_vehicle."
   ]
  },
  {
   "cell_type": "code",
   "execution_count": 3,
   "id": "d38c425d-a761-423d-b6f1-bf16864a4f83",
   "metadata": {},
   "outputs": [
    {
     "data": {
      "text/plain": [
       "('Bike', '275Kmph', '50kmph')"
      ]
     },
     "execution_count": 3,
     "metadata": {},
     "output_type": "execute_result"
    }
   ],
   "source": [
    "class Vehicle:\n",
    "    def __init__(self, name_of_vehicle, max_speed, average_of_vehicle):\n",
    "        self.name_of_vehicle = name_of_vehicle\n",
    "        self.max_speed = max_speed\n",
    "        self.average_of_vehicle = average_of_vehicle\n",
    "        \n",
    "    def get_details(self):\n",
    "        return self.name_of_vehicle, self.max_speed, self.average_of_vehicle\n",
    "    \n",
    "car = Vehicle(\"Bike\", '275Kmph', '50kmph')\n",
    "car.get_details()"
   ]
  },
  {
   "cell_type": "code",
   "execution_count": null,
   "id": "4e741cd2-6bd6-431c-a8d4-a47ff3d79438",
   "metadata": {},
   "outputs": [],
   "source": []
  },
  {
   "cell_type": "markdown",
   "id": "f6d8c124-8075-40e1-9de9-19195f6ca234",
   "metadata": {},
   "source": [
    "Q2. Create a child class car from the vehicle class created in Que 1, which will inherit the vehicle class.\n",
    "Create a method named seating_capacity which takes capacity as an argument and returns the name of\n",
    "the vehicle and its seating capacity."
   ]
  },
  {
   "cell_type": "code",
   "execution_count": 12,
   "id": "9c68c5c7-ff38-4fdb-8127-de99c9a6d423",
   "metadata": {},
   "outputs": [
    {
     "data": {
      "text/plain": [
       "('Audi', '4')"
      ]
     },
     "execution_count": 12,
     "metadata": {},
     "output_type": "execute_result"
    }
   ],
   "source": [
    "class car(Vehicle):\n",
    "    def __init__(self, name_of_vehicle, max_speed, average_of_vehicle):\n",
    "        Vehicle.__init__(self, name_of_vehicle, max_speed, average_of_vehicle)\n",
    "    \n",
    "    def seating_capacity(self, number_of_seats):\n",
    "        self.numder_of_seats = number_of_seats\n",
    "        return self.name_of_vehicle, self.numder_of_seats\n",
    "        \n",
    "        \n",
    "c1 = car(\"Audi\", '375kmph', \"232kmph\")\n",
    "c1.seating_capacity(\"4\")"
   ]
  },
  {
   "cell_type": "code",
   "execution_count": null,
   "id": "680e6810-a058-49e6-a7d5-34757635f6ed",
   "metadata": {},
   "outputs": [],
   "source": []
  },
  {
   "cell_type": "markdown",
   "id": "c6b61db5-e2c0-4c4f-a69e-26c47189d2ca",
   "metadata": {},
   "source": [
    "Q3. What is multiple inheritance? Write a python code to demonstrate multiple inheritance."
   ]
  },
  {
   "cell_type": "markdown",
   "id": "ce151d18-bc72-440b-8749-24f5db77120e",
   "metadata": {},
   "source": [
    "When a class can be derived from more than one base class this type of inheritance is called multiple inheritances. In multiple inheritances, all the features of the base classes are inherited into the derived class."
   ]
  },
  {
   "cell_type": "code",
   "execution_count": 13,
   "id": "032f3289-d5fa-464d-b654-634d52f74e4c",
   "metadata": {},
   "outputs": [
    {
     "name": "stdout",
     "output_type": "stream",
     "text": [
      "Father:  Mohan\n",
      "Mother:  Radha\n",
      "Radha\n"
     ]
    }
   ],
   "source": [
    "#python program to demestrate \n",
    "#multiple inheritance\n",
    "\n",
    "#Base class1\n",
    "class Mother:\n",
    "    mother_name = \"\"\n",
    "    \n",
    "    def mother(self):\n",
    "        print(self.mother_name)\n",
    "        \n",
    "#Base class2\n",
    "\n",
    "class Father:\n",
    "    father_name = \"\"\n",
    "    \n",
    "    def father(self):\n",
    "        print(self.father_name)\n",
    "        \n",
    "# Derived class \n",
    "\n",
    "class Son(Mother, Father):\n",
    "    def parents(self):\n",
    "        print(\"Father: \", self.father_name)\n",
    "        print(\"Mother: \", self.mother_name)        \n",
    "        \n",
    "s1 = Son()\n",
    "s1.father_name = \"Mohan\"\n",
    "s1.mother_name = \"Radha\"\n",
    "s1. parents()\n",
    "s1.mother()"
   ]
  },
  {
   "cell_type": "code",
   "execution_count": null,
   "id": "f5ce7e06-9d0f-4767-b326-5e34d9e5423b",
   "metadata": {},
   "outputs": [],
   "source": []
  },
  {
   "cell_type": "markdown",
   "id": "2e1003ab-2aa3-4ba5-bfc9-cdf6e43c9def",
   "metadata": {},
   "source": [
    "Q4. What are getter and setter in python? Create a class and create a getter and a setter method in this\n",
    "class."
   ]
  },
  {
   "cell_type": "markdown",
   "id": "ecbe6007-ff0e-471a-aa21-17ea4e721b26",
   "metadata": {},
   "source": [
    "Getters are the methods that are used in Object-Oriented Programming (OOPS) to access a class's private attributes. The setattr() function in Python corresponds to the getattr() function in Python. It alters an object's attribute values.\n",
    "\n",
    "The setter is a method that is used to set the property's value. It is very useful in object-oriented programming to set the value of private attributes in a class.\n",
    "\n",
    "Generally, getters and setters are mainly used to ensure the data encapsulation in OOPs."
   ]
  },
  {
   "cell_type": "code",
   "execution_count": 34,
   "id": "5a7828e8-f393-433e-b679-5a3ba5be2002",
   "metadata": {},
   "outputs": [
    {
     "data": {
      "text/plain": [
       "'Mahima Vishwakarma'"
      ]
     },
     "execution_count": 34,
     "metadata": {},
     "output_type": "execute_result"
    }
   ],
   "source": [
    "class My_fav_songs:\n",
    "    def __init__(self, playlist, creator, genre):\n",
    "        self.playlist = playlist\n",
    "        self.__creator = creator\n",
    "        self.genre = genre\n",
    "        \n",
    "    @property\n",
    "    def creator_access(self):\n",
    "        return self.__creator\n",
    "    \n",
    "    @creator_access.setter\n",
    "    def creator_set(self, creator_name):\n",
    "        self.__creator = creator_name\n",
    "    \n",
    "p1 = My_fav_songs([\"All too well\", \"Teardrops on my guitar\", \"You're not sorry\"], \"Mahima\", \"Heartbroken\")\n",
    "p1.creator_set = \"Mahima Vishwakarma\"\n",
    "p1.creator_access"
   ]
  },
  {
   "cell_type": "code",
   "execution_count": null,
   "id": "2528a893-a305-4e22-9baa-562658b5d05c",
   "metadata": {},
   "outputs": [],
   "source": []
  },
  {
   "cell_type": "markdown",
   "id": "5416771f-8f1f-4dd3-afba-e188ee2f2893",
   "metadata": {},
   "source": [
    "Q5.What is method overriding in python? Write a python code to demonstrate method overriding."
   ]
  },
  {
   "cell_type": "markdown",
   "id": "0f9431a3-6d2b-4377-9785-fe8472405e26",
   "metadata": {},
   "source": [
    "Method overriding is a concept of object oriented programming that allows us to change the implementation of a function in the child class that is defined in the parent class. It is the ability of a child class to change the implementation of any method which is already provided by one of its parent class(ancestors).\n",
    "\n",
    "Following conditions must be met for overriding a function:\n",
    "- Inheritance should be there. Function overriding cannot be done within a class. We need to derive a child class from a parent class.\n",
    "- The function that is redefined in the child class should have the same signature as in the parent class i.e. same number of parameters."
   ]
  },
  {
   "cell_type": "code",
   "execution_count": 35,
   "id": "2435faae-f77e-4d08-b492-395ca6d8583c",
   "metadata": {},
   "outputs": [],
   "source": [
    "class Animal:\n",
    "    # properties\n",
    "\tmulticellular = True\n",
    "\t\n",
    "\t# function breathe\n",
    "\tdef breathe(self):\n",
    "\t    print(\"I breathe oxygen.\")\n",
    "    \n",
    "    # function feed\n",
    "\tdef feed(self):\n",
    "\t    print(\"I eat food.\")\n",
    "        \n",
    "class Herbivorous(Animal):\n",
    "    \n",
    "    # function feed\n",
    "\tdef feed(self):\n",
    "\t    print(\"I eat only plants. I am vegetarian.\")"
   ]
  },
  {
   "cell_type": "markdown",
   "id": "f70a18c4-74e1-40e3-b9dd-5c97d8a3da9d",
   "metadata": {},
   "source": [
    "In the child class Herbivorous we have overridden the method feed().\n",
    "\n",
    "So now when we create an object of the class Herbivorous and call the method feed() the overridden version will be executed."
   ]
  },
  {
   "cell_type": "code",
   "execution_count": 37,
   "id": "96e58ae0-696a-4768-a6bd-964db03a81fa",
   "metadata": {},
   "outputs": [
    {
     "name": "stdout",
     "output_type": "stream",
     "text": [
      "I eat only plants. I am vegetarian.\n"
     ]
    }
   ],
   "source": [
    "cow = Herbivorous()\n",
    "cow.feed()"
   ]
  },
  {
   "cell_type": "code",
   "execution_count": 39,
   "id": "41019c03-71e9-4017-a337-54d28713101c",
   "metadata": {},
   "outputs": [
    {
     "name": "stdout",
     "output_type": "stream",
     "text": [
      "I eat food.\n"
     ]
    }
   ],
   "source": [
    "Snake = Animal()\n",
    "Snake.feed()"
   ]
  }
 ],
 "metadata": {
  "kernelspec": {
   "display_name": "Python 3 (ipykernel)",
   "language": "python",
   "name": "python3"
  },
  "language_info": {
   "codemirror_mode": {
    "name": "ipython",
    "version": 3
   },
   "file_extension": ".py",
   "mimetype": "text/x-python",
   "name": "python",
   "nbconvert_exporter": "python",
   "pygments_lexer": "ipython3",
   "version": "3.10.8"
  }
 },
 "nbformat": 4,
 "nbformat_minor": 5
}

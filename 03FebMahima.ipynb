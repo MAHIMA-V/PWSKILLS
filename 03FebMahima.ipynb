{
 "cells": [
  {
   "cell_type": "markdown",
   "id": "0242dd9d-d4a4-414b-90eb-e7e1c08ea65a",
   "metadata": {},
   "source": [
    "Q1. Which keyword is used to create a function? Create a function to return a list of odd numbers in the\n",
    "range of 1 to 25."
   ]
  },
  {
   "cell_type": "markdown",
   "id": "3637f39d-d218-4f78-b4f3-231b265e868e",
   "metadata": {},
   "source": [
    "- def is the keyword used to create a function. Function syntax is :\n",
    "\n",
    "  def _function_name :\n",
    "\n",
    "         _function_body\n",
    "    \n",
    "         return _result"
   ]
  },
  {
   "cell_type": "code",
   "execution_count": 1,
   "id": "badbdba3-db06-4cfd-a0f6-ac3dc639815e",
   "metadata": {},
   "outputs": [],
   "source": [
    "# function to return a list of odd numbers in the range of 1 to 25\n",
    "numbers = list(range(1, 26))\n",
    "def odd_number(numbers):\n",
    "    odd_number_list = []\n",
    "    for i in numbers:\n",
    "        if i % 2 != 0:\n",
    "            odd_number_list.append(i)\n",
    "    return odd_number_list"
   ]
  },
  {
   "cell_type": "code",
   "execution_count": 2,
   "id": "18b9bdfd-4ebd-4146-a71a-05ec275eb66f",
   "metadata": {},
   "outputs": [
    {
     "data": {
      "text/plain": [
       "[1, 3, 5, 7, 9, 11, 13, 15, 17, 19, 21, 23, 25]"
      ]
     },
     "execution_count": 2,
     "metadata": {},
     "output_type": "execute_result"
    }
   ],
   "source": [
    "odd_number(numbers)"
   ]
  },
  {
   "cell_type": "markdown",
   "id": "85401205-131c-4329-9306-5643555b8996",
   "metadata": {},
   "source": [
    "Q2. Why *args and **kwargs is used in some functions? Create a function each for *args and **kwargs\n",
    "to demonstrate their use."
   ]
  },
  {
   "cell_type": "markdown",
   "id": "fc44517b-c774-44ac-af66-952ef550da9a",
   "metadata": {},
   "source": [
    "- In Python, we can pass a variable number of arguments to a function using special symbols. There are two special symbols:\n",
    "\n",
    "  - *args (Non Keyword Arguments)\n",
    "  - **kwargs (Keyword Arguments)\n",
    "  \n",
    "- We use *args and **kwargs as an argument when we are unsure about the number of arguments to pass in the functions.\n",
    "- Python has *args which allow us to pass the variable number of non keyword arguments to function. In the function, we should use an asterisk * before the parameter name to pass variable length arguments.The arguments are passed as a tuple where as \n",
    "- **kwargs allows us to pass the variable length of keyword arguments to the function. In the function, we use the double asterisk ** before the parameter name to denote this type of argument. The arguments are passed as a dictionary\n"
   ]
  },
  {
   "cell_type": "code",
   "execution_count": 17,
   "id": "17d3a839-8b16-4396-8079-947b20360b6f",
   "metadata": {},
   "outputs": [],
   "source": [
    "# examples for *args\n",
    "def test1(*args):\n",
    "    print(type(args))\n",
    "    return sum(args)\n",
    "\n",
    "# example for **kwargs:\n",
    "def test2(**kwargs):\n",
    "    print(type(kwargs))\n",
    "    for key, value in kwargs.items():\n",
    "        print(f\"{key}, {value}\")"
   ]
  },
  {
   "cell_type": "code",
   "execution_count": 18,
   "id": "383a67c2-0ef1-43ba-947e-05d02823d1cf",
   "metadata": {},
   "outputs": [
    {
     "name": "stdout",
     "output_type": "stream",
     "text": [
      "<class 'tuple'>\n"
     ]
    },
    {
     "data": {
      "text/plain": [
       "27"
      ]
     },
     "execution_count": 18,
     "metadata": {},
     "output_type": "execute_result"
    }
   ],
   "source": [
    "test1(2, 3, 4, 5, 6, 7)"
   ]
  },
  {
   "cell_type": "code",
   "execution_count": 19,
   "id": "e9ced5e4-65ab-4316-bc0c-3f48237e931f",
   "metadata": {},
   "outputs": [
    {
     "name": "stdout",
     "output_type": "stream",
     "text": [
      "<class 'dict'>\n",
      "a, 3\n",
      "b, 4\n",
      "c, 5\n",
      "d, 6\n"
     ]
    }
   ],
   "source": [
    "test2(a = 3, b = 4, c = 5, d = 6)"
   ]
  },
  {
   "cell_type": "markdown",
   "id": "79a7a8cf-5991-4aad-939a-32cb88ac68b9",
   "metadata": {},
   "source": [
    "Q3. What is an iterator in python? Name the method used to initialise the iterator object and the method\n",
    "used for iteration. Use these methods to print the first five elements of the given list [2, 4, 6, 8, 10, 12, 14,\n",
    "16, 18, 20].\n",
    "- An iterator in Python is an object that allows sequential access to elements in a collection. It provides a way to loop over a sequence of values without having to know the sequence's internal structure.\n",
    "\n",
    "- iter() is the method used to initialize the iterator object and next() is the method used for iteration."
   ]
  },
  {
   "cell_type": "code",
   "execution_count": 23,
   "id": "a9cfc812-07f9-4428-8dae-d744bc1e0e17",
   "metadata": {},
   "outputs": [
    {
     "name": "stdout",
     "output_type": "stream",
     "text": [
      "2\n",
      "4\n",
      "6\n",
      "8\n",
      "10\n"
     ]
    }
   ],
   "source": [
    "# Use these methods to print the first five elements of the given list [2, 4, 6, 8, 10, 12, 14, 16, 18, 20].\n",
    "\n",
    "my_list = [2, 4, 6, 8, 10, 12, 14, 16, 18, 20]\n",
    "my_iterator = iter(my_list)\n",
    "for i in range(5):\n",
    "    print(next(my_iterator))"
   ]
  },
  {
   "cell_type": "markdown",
   "id": "f58f7ec6-36bb-4e36-a5b9-291a24a6dc67",
   "metadata": {},
   "source": [
    "Q4. What is a generator function in python? Why yield keyword is used? Give an example of a generator\n",
    "function."
   ]
  },
  {
   "cell_type": "markdown",
   "id": "d5a1c620-f1b9-4184-8ef0-03f1665b6936",
   "metadata": {},
   "source": [
    "- A generator function in Python is a special type of function that returns an iterator object that can be used to iterate over a sequence of values. These help in saving memory as they don't store sequence of data all at once rather the make use of yield keyword.\n",
    "- The yield keyword is used in generator functions to indicate where the function should pause and return a value to the caller. When the generator function is called again, it resumes execution from where it left off and continues generating the sequence."
   ]
  },
  {
   "cell_type": "code",
   "execution_count": 25,
   "id": "4be5ba6e-f07d-4e24-8f5b-c25709e06a2d",
   "metadata": {},
   "outputs": [],
   "source": [
    "#example \n",
    "def test_fib(n):\n",
    "    a, b = 0, 1\n",
    "    for i in range(n):\n",
    "        yield a\n",
    "        a, b = b, a+b"
   ]
  },
  {
   "cell_type": "code",
   "execution_count": 28,
   "id": "b14c10db-4117-4664-bebd-f14c8018a8aa",
   "metadata": {},
   "outputs": [
    {
     "name": "stdout",
     "output_type": "stream",
     "text": [
      "0\n",
      "1\n",
      "1\n",
      "2\n",
      "3\n",
      "5\n",
      "8\n",
      "13\n",
      "21\n",
      "34\n"
     ]
    }
   ],
   "source": [
    "\n",
    "for i in test_fib(10):\n",
    "    print(i)"
   ]
  },
  {
   "cell_type": "markdown",
   "id": "bc8f764d-be95-4eb7-84f4-340c94290db5",
   "metadata": {},
   "source": [
    "Q5. Create a generator function for prime numbers less than 1000. Use the next() method to print the\n",
    "first 20 prime numbers."
   ]
  },
  {
   "cell_type": "code",
   "execution_count": 4,
   "id": "98bd1d37-0779-453b-a0ef-cfc0d9dd7a8e",
   "metadata": {},
   "outputs": [],
   "source": [
    "def prime_number():\n",
    "    num = 2\n",
    "    while num < 1000:\n",
    "        is_prime = True\n",
    "        for i in range(2, num):\n",
    "            if num % i == 0:\n",
    "                is_prime = False\n",
    "                break\n",
    "        if is_prime:\n",
    "            yield num\n",
    "        num += 1\n",
    "        "
   ]
  },
  {
   "cell_type": "code",
   "execution_count": 6,
   "id": "8a44ab00-4afd-4fde-ae33-57da9c5f7e9a",
   "metadata": {},
   "outputs": [
    {
     "name": "stdout",
     "output_type": "stream",
     "text": [
      "2 3 5 7 11 13 17 19 23 29 31 37 41 43 47 53 59 61 67 71 "
     ]
    }
   ],
   "source": [
    "num = prime_number()\n",
    "for i in range(1, 21):\n",
    "    print(next(num), end = ' ')"
   ]
  },
  {
   "cell_type": "markdown",
   "id": "5fbcab7d-3259-4568-8b36-8ebd07ab72d5",
   "metadata": {},
   "source": [
    "Q6. Write a python program to print the first 10 Fibonacci numbers using a while loop."
   ]
  },
  {
   "cell_type": "code",
   "execution_count": 7,
   "id": "dd44ec85-1c27-4e00-aa8b-0b9a8b811d4d",
   "metadata": {},
   "outputs": [
    {
     "name": "stdin",
     "output_type": "stream",
     "text": [
      "Enter the number of element you want in fib series 10\n"
     ]
    },
    {
     "name": "stdout",
     "output_type": "stream",
     "text": [
      "0\n",
      "1\n",
      "1\n",
      "2\n",
      "3\n",
      "5\n",
      "8\n",
      "13\n",
      "21\n",
      "34\n"
     ]
    }
   ],
   "source": [
    "number = int(input(\"Enter the number of element you want in fib series\"))\n",
    "first_term = 0\n",
    "second_term = 1\n",
    "\n",
    "if number == 1:\n",
    "    print(first_term)\n",
    "    \n",
    "print(first_term)\n",
    "print(second_term)\n",
    "while number > 2:\n",
    "    next_term = first_term + second_term\n",
    "    print(next_term)\n",
    "    first_term = second_term\n",
    "    second_term = next_term\n",
    "    number -= 1\n"
   ]
  },
  {
   "cell_type": "markdown",
   "id": "9b709e45-7368-4249-89f7-8b663f246d9f",
   "metadata": {},
   "source": [
    "Q7. Write a List Comprehension to iterate through the given string: ‘pwskills’.\n",
    "Expected output: ['p', 'w', 's', 'k', 'i', 'l', 'l', 's']"
   ]
  },
  {
   "cell_type": "code",
   "execution_count": 1,
   "id": "ae548e4d-68ea-48b1-90c0-a4952e7130f3",
   "metadata": {},
   "outputs": [
    {
     "data": {
      "text/plain": [
       "['p', 'w', 's', 'k', 'i', 'l', 'l', 's']"
      ]
     },
     "execution_count": 1,
     "metadata": {},
     "output_type": "execute_result"
    }
   ],
   "source": [
    "my_string = 'pwskills'\n",
    "[i for i in my_string]"
   ]
  },
  {
   "cell_type": "markdown",
   "id": "3e8e5b68-171e-46da-8cb2-0bbd39a48260",
   "metadata": {},
   "source": [
    "Q8. Write a python program to check whether a given number is Palindrome or not using a while loop.\n"
   ]
  },
  {
   "cell_type": "code",
   "execution_count": 5,
   "id": "c66c43b0-b861-48b8-aacf-5d6c007aed89",
   "metadata": {},
   "outputs": [
    {
     "name": "stdin",
     "output_type": "stream",
     "text": [
      "Enter the number 10101010101\n"
     ]
    },
    {
     "name": "stdout",
     "output_type": "stream",
     "text": [
      "10101010101 is a palindrome number"
     ]
    }
   ],
   "source": [
    "my_number = input(\"Enter the number\")\n",
    "if my_number == my_number[::-1]:\n",
    "    print(int(my_number), end=\" is a palindrome number\")\n",
    "else:\n",
    "    print(int(my_number), end=\" is not a palindrome number\")"
   ]
  },
  {
   "cell_type": "markdown",
   "id": "46e6ab84-7831-4a04-8d74-f688563b139c",
   "metadata": {},
   "source": [
    "Q9. Write a code to print odd numbers from 1 to 100 using list comprehension."
   ]
  },
  {
   "cell_type": "code",
   "execution_count": 9,
   "id": "4d07ebf1-cb16-4229-a0bd-ef2467870dcf",
   "metadata": {},
   "outputs": [
    {
     "data": {
      "text/plain": [
       "[1,\n",
       " 3,\n",
       " 5,\n",
       " 7,\n",
       " 9,\n",
       " 11,\n",
       " 13,\n",
       " 15,\n",
       " 17,\n",
       " 19,\n",
       " 21,\n",
       " 23,\n",
       " 25,\n",
       " 27,\n",
       " 29,\n",
       " 31,\n",
       " 33,\n",
       " 35,\n",
       " 37,\n",
       " 39,\n",
       " 41,\n",
       " 43,\n",
       " 45,\n",
       " 47,\n",
       " 49,\n",
       " 51,\n",
       " 53,\n",
       " 55,\n",
       " 57,\n",
       " 59,\n",
       " 61,\n",
       " 63,\n",
       " 65,\n",
       " 67,\n",
       " 69,\n",
       " 71,\n",
       " 73,\n",
       " 75,\n",
       " 77,\n",
       " 79,\n",
       " 81,\n",
       " 83,\n",
       " 85,\n",
       " 87,\n",
       " 89,\n",
       " 91,\n",
       " 93,\n",
       " 95,\n",
       " 97,\n",
       " 99]"
      ]
     },
     "execution_count": 9,
     "metadata": {},
     "output_type": "execute_result"
    }
   ],
   "source": [
    "l = [i in]\n",
    "[i for i in  if i % 2 != 0]"
   ]
  }
 ],
 "metadata": {
  "kernelspec": {
   "display_name": "Python 3 (ipykernel)",
   "language": "python",
   "name": "python3"
  },
  "language_info": {
   "codemirror_mode": {
    "name": "ipython",
    "version": 3
   },
   "file_extension": ".py",
   "mimetype": "text/x-python",
   "name": "python",
   "nbconvert_exporter": "python",
   "pygments_lexer": "ipython3",
   "version": "3.10.8"
  }
 },
 "nbformat": 4,
 "nbformat_minor": 5
}

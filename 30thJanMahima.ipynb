{
 "cells": [
  {
   "cell_type": "code",
   "execution_count": 19,
   "id": "3bc5899e-5b8b-488a-929c-20825c2d3828",
   "metadata": {},
   "outputs": [
    {
     "name": "stdout",
     "output_type": "stream",
     "text": [
      "Enter the obtained percentage 99\n",
      "Your grade is A\n"
     ]
    }
   ],
   "source": [
    "# 1. Wrtie a program to accept percentage from the user and display the grade according to the following criteria:\n",
    "\n",
    "percentage = int(input(\"Enter the obtained percentage \"))\n",
    "grade = ''\n",
    "if percentage <= 100 and percentage >=0:\n",
    "    if percentage > 90:\n",
    "        grade = 'A'\n",
    "    elif percentage > 80 and percentage <= 90:\n",
    "        grade = 'B'\n",
    "    elif percentage >= 60 and percentage <= 80:\n",
    "        grade = 'C'\n",
    "    elif percentage < 60:\n",
    "        grade = 'D'\n",
    "    print(f\"Your grade is {grade}\")\n",
    "    \n",
    "else:\n",
    "    print(\"Invalid input\")\n"
   ]
  },
  {
   "cell_type": "code",
   "execution_count": 20,
   "id": "829cf334-af0b-49a9-b6e7-566a6af16a86",
   "metadata": {},
   "outputs": [
    {
     "name": "stdout",
     "output_type": "stream",
     "text": [
      "What is the cost price of the bike? Rs100009\n",
      "The road tax to be paid is 15%\n"
     ]
    }
   ],
   "source": [
    "# 2. Write a program to accept the cost pricw of a bike and display the road tax to be paid according to the ffollowing criteria:\n",
    "\n",
    "cost_price = int(input(\"What is the cost price of the bike? Rs\"))\n",
    "tax = 0\n",
    "if cost_price > 100000:\n",
    "    tax = 15\n",
    "elif cost_price > 50000 and cost_price <= 100000:\n",
    "    tax = 10\n",
    "elif cost_price <= 50000:\n",
    "    tax = 5\n",
    "print(f\"The road tax to be paid is {tax}%\")"
   ]
  },
  {
   "cell_type": "code",
   "execution_count": 21,
   "id": "7f968763-6022-4af3-b344-1fbfba36d909",
   "metadata": {},
   "outputs": [
    {
     "name": "stdout",
     "output_type": "stream",
     "text": [
      "Enter the city nameDelhi\n",
      "Famous Monument of Delhi is Red Fort\n"
     ]
    }
   ],
   "source": [
    "# 3. Accept any city from the user and display monuments of that city.\n",
    "\n",
    "city = input(\"Enter the city name\")\n",
    "monument = ''\n",
    "if city == 'Delhi':\n",
    "    monument = 'Red Fort'\n",
    "elif city == 'Agra':\n",
    "    monument = 'Taj Mahal'\n",
    "elif city == 'Jaipur':\n",
    "    monument = 'Jal Mahal'\n",
    "print(f'Famous Monument of {city} is {monument}')"
   ]
  },
  {
   "cell_type": "code",
   "execution_count": null,
   "id": "330ea987-c3e0-41df-9485-173674ba40cf",
   "metadata": {},
   "outputs": [],
   "source": []
  },
  {
   "cell_type": "code",
   "execution_count": 22,
   "id": "34f46707-cfce-42f6-8709-354a9c40647e",
   "metadata": {},
   "outputs": [
    {
     "name": "stdout",
     "output_type": "stream",
     "text": [
      "Enter the number54\n",
      " Given number can be 2 times divided by 3 before it is less or equal to 10.\n"
     ]
    }
   ],
   "source": [
    "# 4. Check how many times a given number can be divided by 3 before it is less or equal to 10.\n",
    "\n",
    "number = int(input(\"Enter the number\"))\n",
    "counter = 0\n",
    "while number > 10:\n",
    "    number = number/3 \n",
    "    counter += 1\n",
    "print(f\" Given number can be {counter} times divided by 3 before it is less or equal to 10.\")\n",
    "    "
   ]
  },
  {
   "cell_type": "markdown",
   "id": "eef15285",
   "metadata": {},
   "source": [
    "5. Why and when to use while loop in python give a detailed description with example?\n",
    " - We uses the while loop in case we dont know the actual ending point of the loop. Like in for loop we use range function since we know how many iterations needs to be done. While loop on the other hand will keep executing its block of code until the given condition is true. While loops are used to repeatedly run a section of code up until a predetermined condition is satisfied. Let's take an example where we want to know how many times we can divide a given number by 3 before the result is less than or equal to 10. We can say two times if we know a specific number, like 54. However, for a symbolic variable called \"NUMBER,\" which stands for any number in the world, we do not know how many times (beforehand)."
   ]
  },
  {
   "cell_type": "code",
   "execution_count": 23,
   "id": "1fd9fa82-6054-4e52-8c5d-14bebb9a4ae4",
   "metadata": {},
   "outputs": [
    {
     "name": "stdout",
     "output_type": "stream",
     "text": [
      "Enter the number54\n",
      "2\n"
     ]
    }
   ],
   "source": [
    "#for example :\n",
    "number = int(input(\"Enter the number\"))\n",
    "counter = 0\n",
    "while number > 10:\n",
    "    number = number/3 \n",
    "    counter += 1\n",
    "print(counter)"
   ]
  },
  {
   "cell_type": "markdown",
   "id": "31732d30",
   "metadata": {},
   "source": [
    "6. Use nested while loop to print 3 different pattern"
   ]
  },
  {
   "cell_type": "code",
   "execution_count": 8,
   "id": "2107f4c7",
   "metadata": {},
   "outputs": [
    {
     "name": "stdout",
     "output_type": "stream",
     "text": [
      "Enter the number of rows9\n",
      "#  \n",
      "#  #  \n",
      "#  #  #  \n",
      "#  #  #  #  \n",
      "#  #  #  #  #  \n",
      "#  #  #  #  #  #  \n",
      "#  #  #  #  #  #  #  \n",
      "#  #  #  #  #  #  #  #  \n",
      "#  #  #  #  #  #  #  #  #  \n"
     ]
    }
   ],
   "source": [
    "#First pattern\n",
    "rows = int(input(\"Enter the number of rows\"))\n",
    "i = 1\n",
    "while i <= rows:\n",
    "    j = 1\n",
    "    while j <= i:\n",
    "        print(\"# \", end=\" \")\n",
    "        j = j + 1\n",
    "    i = i + 1\n",
    "    print('')\n",
    "\n",
    "    "
   ]
  },
  {
   "cell_type": "code",
   "execution_count": 6,
   "id": "75666cfa",
   "metadata": {},
   "outputs": [
    {
     "name": "stdout",
     "output_type": "stream",
     "text": [
      "Enter the number of rows5\n",
      "#  #  #  #  #   \n",
      "#  #  #  #  #   \n",
      "#  #  #  #  #   \n",
      "#  #  #  #  #   \n",
      "#  #  #  #  #   \n"
     ]
    }
   ],
   "source": [
    "#Second Pattern:\n",
    "rows = int(input(\"Enter the number of rows\"))\n",
    "i = 1\n",
    "while i <= rows:\n",
    "    j = 1\n",
    "    while j <= rows:\n",
    "        print(\"# \", end = \" \")\n",
    "        j += 1\n",
    "    i += 1\n",
    "    print(\" \")"
   ]
  },
  {
   "cell_type": "code",
   "execution_count": 7,
   "id": "b3d9b3fd",
   "metadata": {},
   "outputs": [
    {
     "name": "stdout",
     "output_type": "stream",
     "text": [
      "1 \n",
      "2 2 \n",
      "3 3 3 \n",
      "4 4 4 4 \n",
      "5 5 5 5 5 \n"
     ]
    }
   ],
   "source": [
    "#Third pattern \n",
    "rows = 5\n",
    "i = 1\n",
    "while i <= rows:\n",
    "    j = 1\n",
    "    while j <= i:\n",
    "        print(i, end=\" \")\n",
    "        j = j + 1\n",
    "    i = i + 1\n",
    "    print('')\n"
   ]
  },
  {
   "cell_type": "markdown",
   "id": "b51e6ae9",
   "metadata": {},
   "source": [
    "7. Reverse a while loop to display numbers from 10 to 1"
   ]
  },
  {
   "cell_type": "code",
   "execution_count": 10,
   "id": "e6ae533e",
   "metadata": {},
   "outputs": [
    {
     "name": "stdout",
     "output_type": "stream",
     "text": [
      "10 9 8 7 6 5 4 3 2 1 "
     ]
    }
   ],
   "source": [
    "number = 10\n",
    "while number > 0:\n",
    "    print(number, end = \" \")\n",
    "    number -= 1"
   ]
  },
  {
   "cell_type": "markdown",
   "id": "8a9ce6bd",
   "metadata": {},
   "source": [
    "8. Reverse a while loop to display numbers from 10 to 1"
   ]
  },
  {
   "cell_type": "code",
   "execution_count": 11,
   "id": "6992ebc0",
   "metadata": {},
   "outputs": [
    {
     "name": "stdout",
     "output_type": "stream",
     "text": [
      "10 9 8 7 6 5 4 3 2 1 "
     ]
    }
   ],
   "source": [
    "number = 10\n",
    "while number > 0:\n",
    "    print(number, end = \" \")\n",
    "    number -= 1"
   ]
  }
 ],
 "metadata": {
  "kernelspec": {
   "display_name": "Python 3 (ipykernel)",
   "language": "python",
   "name": "python3"
  },
  "language_info": {
   "codemirror_mode": {
    "name": "ipython",
    "version": 3
   },
   "file_extension": ".py",
   "mimetype": "text/x-python",
   "name": "python",
   "nbconvert_exporter": "python",
   "pygments_lexer": "ipython3",
   "version": "3.9.12"
  },
  "vscode": {
   "interpreter": {
    "hash": "57713a269ee69a3a8f0f73af49e34faa1dd8532c0bbd489f34a0c30b215a0cd0"
   }
  }
 },
 "nbformat": 4,
 "nbformat_minor": 5
}

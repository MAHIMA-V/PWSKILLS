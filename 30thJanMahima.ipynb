{
 "cells": [
  {
   "cell_type": "code",
   "execution_count": 1,
   "id": "3bc5899e-5b8b-488a-929c-20825c2d3828",
   "metadata": {},
   "outputs": [
    {
     "name": "stdin",
     "output_type": "stream",
     "text": [
      "Enter the obtained percentage 199\n"
     ]
    },
    {
     "name": "stdout",
     "output_type": "stream",
     "text": [
      "Invalid input\n"
     ]
    }
   ],
   "source": [
    "# 1. Wrtie a program to accept percentage from the user and display the grade according to the following criteria:\n",
    "\n",
    "percentage = int(input(\"Enter the obtained percentage\"))\n",
    "grade = ''\n",
    "if percentage <= 100 and percentage >=0:\n",
    "    if percentage > 90:\n",
    "        grade = 'A'\n",
    "    elif percentage > 80 and percentage <= 90:\n",
    "        grade = 'B'\n",
    "    elif percentage >= 60 and percentage <= 80:\n",
    "        grade = 'C'\n",
    "    elif percentage < 60:\n",
    "        grade = 'D'\n",
    "    print(f\"Your grade is {grade}\")\n",
    "    \n",
    "else:\n",
    "    print(\"Invalid input\")\n"
   ]
  },
  {
   "cell_type": "code",
   "execution_count": 2,
   "id": "829cf334-af0b-49a9-b6e7-566a6af16a86",
   "metadata": {},
   "outputs": [
    {
     "name": "stdin",
     "output_type": "stream",
     "text": [
      "What is the cost price of the bike? Rs 100090\n"
     ]
    },
    {
     "name": "stdout",
     "output_type": "stream",
     "text": [
      "The road tax to be paid is 15%\n"
     ]
    }
   ],
   "source": [
    "# 2. Write a program to accept the cost pricw of a bike and display the road tax to be paid according to the ffollowing criteria:\n",
    "\n",
    "cost_price = int(input(\"What is the cost price of the bike? Rs\"))\n",
    "tax = 0\n",
    "if cost_price > 100000:\n",
    "    tax = 15\n",
    "elif cost_price > 50000 and cost_price <= 100000:\n",
    "    tax = 10\n",
    "elif cost_price <= 50000:\n",
    "    tax = 5\n",
    "print(f\"The road tax to be paid is {tax}%\")"
   ]
  },
  {
   "cell_type": "code",
   "execution_count": 3,
   "id": "7f968763-6022-4af3-b344-1fbfba36d909",
   "metadata": {},
   "outputs": [
    {
     "name": "stdin",
     "output_type": "stream",
     "text": [
      "Enter the city name Delhi\n"
     ]
    },
    {
     "name": "stdout",
     "output_type": "stream",
     "text": [
      "Famous Monument of Delhi is Red Fort\n"
     ]
    }
   ],
   "source": [
    "# 3. Accept any city from the user and display monuments of that city.\n",
    "\n",
    "city = input(\"Enter the city name\")\n",
    "monument = ''\n",
    "if city == 'Delhi':\n",
    "    monument = 'Red Fort'\n",
    "elif city == 'Agra':\n",
    "    monument = 'Taj Mahal'\n",
    "elif city == 'Jaipur':\n",
    "    monument = 'Jal Mahal'\n",
    "print(f'Famous Monument of {city} is {monument}')"
   ]
  },
  {
   "cell_type": "code",
   "execution_count": null,
   "id": "330ea987-c3e0-41df-9485-173674ba40cf",
   "metadata": {},
   "outputs": [],
   "source": []
  },
  {
   "cell_type": "code",
   "execution_count": null,
   "id": "34f46707-cfce-42f6-8709-354a9c40647e",
   "metadata": {},
   "outputs": [],
   "source": [
    "# 4. Check how many times a given number can be divided by 3 before it is less or equal to 10.\n",
    "\n",
    "number = int(input(\"Enter the number\"))\n",
    "counter = 0\n",
    "while number > 10:\n",
    "    counter = number//3 \n",
    "\n",
    "print(f\"{number} is {counter} times divisible by 3\")\n",
    "    "
   ]
  },
  {
   "cell_type": "code",
   "execution_count": null,
   "id": "9089a373-d425-4766-a57f-84f3897e9c94",
   "metadata": {},
   "outputs": [],
   "source": []
  },
  {
   "cell_type": "code",
   "execution_count": null,
   "id": "1fd9fa82-6054-4e52-8c5d-14bebb9a4ae4",
   "metadata": {},
   "outputs": [],
   "source": []
  },
  {
   "cell_type": "code",
   "execution_count": null,
   "id": "cd322092-ab0c-444b-97a6-d732dc212c80",
   "metadata": {},
   "outputs": [],
   "source": []
  }
 ],
 "metadata": {
  "kernelspec": {
   "display_name": "Python 3 (ipykernel)",
   "language": "python",
   "name": "python3"
  },
  "language_info": {
   "codemirror_mode": {
    "name": "ipython",
    "version": 3
   },
   "file_extension": ".py",
   "mimetype": "text/x-python",
   "name": "python",
   "nbconvert_exporter": "python",
   "pygments_lexer": "ipython3",
   "version": "3.10.8"
  }
 },
 "nbformat": 4,
 "nbformat_minor": 5
}

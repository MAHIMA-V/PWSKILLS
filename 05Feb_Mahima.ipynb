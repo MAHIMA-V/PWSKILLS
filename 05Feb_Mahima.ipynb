{
 "cells": [
  {
   "cell_type": "markdown",
   "id": "177ceb9f-2895-4a43-8e2c-5fa06b215751",
   "metadata": {},
   "source": [
    "Q1. Explain Class and Object with respect to Object-Oriented Programming. Give a suitable example."
   ]
  },
  {
   "cell_type": "markdown",
   "id": "b4a2a5a6-ed3c-4203-9834-99db04303f4e",
   "metadata": {},
   "source": [
    "Object-Oriented Programming, also known as OOPs concepts in python, is what lets us develop applications using an Object-Oriented approach. It does so by clubbing together similar or related behaviors and properties and converting them into objects.\n",
    "A class is a user-defined blueprint or prototype from which objects are created. Classes provide a means of bundling data and functionality together. An object is any entity that has attributes and behaviors. \n",
    "For example, a car can be an object. If we consider the car as an object, its properties would be its color, model, price, brand, etc. And its behavior/function would be acceleration, slowing down, and gear change.\n"
   ]
  },
  {
   "cell_type": "markdown",
   "id": "91dd7c33-438d-444f-96ec-8a05c086b714",
   "metadata": {},
   "source": [
    "Q2. Name the four pillars of OOPs."
   ]
  },
  {
   "cell_type": "markdown",
   "id": "74e078ff-039e-48c7-a94b-994078ea7cbe",
   "metadata": {},
   "source": [
    "The four pillars of object-oriented programming are:\n",
    "\n",
    "- Abstraction\n",
    "- Encapsulation\n",
    "- Inheritance\n",
    "- Polymorphism"
   ]
  },
  {
   "cell_type": "markdown",
   "id": "cfbade34-2954-40ad-a6b6-dcea54ea3030",
   "metadata": {},
   "source": [
    "Q3. Explain why the __init__() function is used. Give a suitable example."
   ]
  },
  {
   "cell_type": "markdown",
   "id": "290f210e-f532-474a-b338-9adf4e03d3a0",
   "metadata": {},
   "source": [
    "A constructor of a class in Python is defined using the _ _init_ _ method. The python __init__ is a reserved method in Python that behaves like any other member function of the class, except the statements written under its definition are used to initialize the data members of a class in Python, i.e. it basically contains assignment statements. This method is automatically called at the time of class instantiation or object creation."
   ]
  },
  {
   "cell_type": "code",
   "execution_count": 4,
   "id": "a1bac6e9-27f0-4495-946d-b1f11ba860f5",
   "metadata": {},
   "outputs": [
    {
     "name": "stdout",
     "output_type": "stream",
     "text": [
      "Mahima Vishwakarma  teaches  Computer Science\n"
     ]
    }
   ],
   "source": [
    "class Teacher:\n",
    "    # definition for init method or constructor\n",
    "    def __init__(self, name, subject):\n",
    "        self.name = name\n",
    "        self.subject = subject\n",
    "     # Random member function\n",
    "    def show(self):\n",
    "        print(self.name, \" teaches \", self.subject)\n",
    "T = Teacher('Mahima Vishwakarma', \"Computer Science\")   # init is invoked here\n",
    "T.show()"
   ]
  },
  {
   "cell_type": "markdown",
   "id": "0a6736a8-0783-4d35-b1ad-22c0dc8b7cc2",
   "metadata": {},
   "source": [
    "Q4. Why self is used in OOPs?"
   ]
  },
  {
   "cell_type": "markdown",
   "id": "c0271282-16e4-459e-8470-f23bd8364bad",
   "metadata": {},
   "source": [
    "\n",
    "Class methods must have an extra first parameter in the method definition. We do not give a value for this parameter when we call the method, Python provides it.\n",
    "If we have a method that takes no arguments, we still have one argument that is self. for example:\n"
   ]
  },
  {
   "cell_type": "code",
   "execution_count": null,
   "id": "8b7d5e4b-93df-4b53-8341-46d8817ea116",
   "metadata": {},
   "outputs": [],
   "source": [
    "class Car:\n",
    "    def __init__(self, make, model, year):\n",
    "        self.make = make\n",
    "        self.model = model\n",
    "        self.year = year\n",
    "        \n",
    "    def display_car_info(self):\n",
    "        print(f\"Make: {self.make}\")\n",
    "        print(f\"Model: {self.model}\")\n",
    "        print(f\"Year: {self.year}\")\n",
    "\n",
    "car1 = Car(\"Toyota\", \"Camry\", 2020)\n",
    "car2 = Car(\"Honda\", \"Accord\", 2021)\n",
    "\n",
    "car1.display_car_info()\n",
    "# Output:\n",
    "# Make: Toyota\n",
    "# Model: Camry\n",
    "# Year: 2020\n",
    "\n",
    "car2.display_car_info()\n",
    "# Output:\n",
    "# Make: Honda\n",
    "# Model: Accord\n",
    "# Year: 2021"
   ]
  },
  {
   "cell_type": "markdown",
   "id": "587c0e8b-8108-45e3-967e-e381bd163af6",
   "metadata": {},
   "source": [
    "Q5. What is inheritance? Give an example for each type of inheritance."
   ]
  },
  {
   "cell_type": "markdown",
   "id": "6beaebc9-608a-45e9-b49c-0df44eb2fc05",
   "metadata": {},
   "source": [
    "Inheritance is a mechanism of acquiring the features and behaviors of a class by another class. The class whose members are inherited is called the base class, and the class that inherits those members is called the derived class. Inheritance implements the IS-A relationship. Inheritance allows for code reusability and makes it easier to create and maintain the code.\n",
    "\n",
    "Types of Inheritance depend upon the number of child and parent classes involved. There are five types of inheritance in Python:\n",
    "\n",
    "1. SINGLE INHERITANCE:\n",
    "\n",
    "   Single inheritance enables a derived class to inherit properties from a single parent class, thus enabling code reusability and the addition of new features to existing code."
   ]
  },
  {
   "cell_type": "code",
   "execution_count": 1,
   "id": "ad2b31e9-ab5a-4ebd-8cdf-a4994bdee30a",
   "metadata": {},
   "outputs": [
    {
     "name": "stdout",
     "output_type": "stream",
     "text": [
      "This function is in parent class.\n",
      "This function is in child class.\n"
     ]
    }
   ],
   "source": [
    "# Python program to demonstrate\n",
    "# single inheritance\n",
    " \n",
    "# Base class\n",
    "class Parent:\n",
    "    def func1(self):\n",
    "        print(\"This function is in parent class.\")\n",
    " \n",
    "#Derived class\n",
    "class Child(Parent):\n",
    "    def func2(self):\n",
    "        print(\"This function is in child class.\")\n",
    " \n",
    " \n",
    "# Driver's code\n",
    "object = Child()\n",
    "object.func1()\n",
    "object.func2()"
   ]
  },
  {
   "cell_type": "markdown",
   "id": "b0f5619c-fadb-4eda-8c8c-cd44d9c32614",
   "metadata": {},
   "source": [
    "\n",
    "2. MULTIPLE INHERITANCE:\n",
    "\n",
    "   When a class can be derived from more than one base class this type of inheritance is called multiple inheritances. In multiple inheritances, all the features of the base classes are inherited into the derived class."
   ]
  },
  {
   "cell_type": "code",
   "execution_count": 3,
   "id": "ae2bff34-c807-45b7-b614-dd274ceed767",
   "metadata": {},
   "outputs": [
    {
     "name": "stdout",
     "output_type": "stream",
     "text": [
      "Father:  Mohan\n",
      "Mother:  Radha\n"
     ]
    }
   ],
   "source": [
    "#python program to demestrate \n",
    "#multiple inheritance\n",
    "\n",
    "#Base class1\n",
    "class Mother:\n",
    "    mother_name = \"\"\n",
    "    \n",
    "    def mother(self):\n",
    "        print(self.mother_name)\n",
    "        \n",
    "#Base class2\n",
    "\n",
    "class Father:\n",
    "    father_name = \"\"\n",
    "    \n",
    "    def father(self):\n",
    "        print(self.father_name)\n",
    "        \n",
    "# Derived class \n",
    "\n",
    "class Son(Mother, Father):\n",
    "    def parents(self):\n",
    "        print(\"Father: \", self.father_name)\n",
    "        print(\"Mother: \", self.mother_name)        \n",
    "        \n",
    "s1 = Son()\n",
    "s1.father_name = \"Mohan\"\n",
    "s1.mother_name = \"Radha\"\n",
    "s1. parents()"
   ]
  },
  {
   "cell_type": "markdown",
   "id": "b1665fd1-7278-4fee-8a2a-7ed17a60160a",
   "metadata": {},
   "source": [
    "\n",
    "3. MULTILEVEL INHERITANCE :\n",
    "\n",
    "   In multilevel inheritance, features of the base class and the derived class are further inherited into the new derived class. This is similar to a relationship representing a child and a grandfather."
   ]
  },
  {
   "cell_type": "code",
   "execution_count": 5,
   "id": "9174865f-347a-4c00-bbe5-6cdda3f13158",
   "metadata": {},
   "outputs": [
    {
     "name": "stdout",
     "output_type": "stream",
     "text": [
      "Awadh Lal\n",
      "Grandfather name:  Awadh Lal\n",
      "Father name:  Mohan\n",
      "Son name:  Atul\n"
     ]
    }
   ],
   "source": [
    "#Python Program to demostrate \n",
    "#multilevel inheritance\n",
    "\n",
    "#Base class\n",
    "\n",
    "class Grandfather:\n",
    "    \n",
    "    def __init__(self, grandfather_name):\n",
    "        self.grandfather_name = grandfather_name\n",
    "        \n",
    "#Intermediate class \n",
    "\n",
    "class Father(Grandfather):\n",
    "    def __init__(self, father_name, grandfather_name):\n",
    "        self.father_name = father_name\n",
    "        \n",
    "        #invoking constructor of Grandfather class\n",
    "        Grandfather.__init__(self, grandfather_name)\n",
    "        \n",
    "#Derived class\n",
    "\n",
    "class Son(Father):\n",
    "    def __init__(self, son_name, father_name, grandfather_name):\n",
    "        self.son_name = son_name\n",
    "        \n",
    "        #invoking constructot of Father class\n",
    "        Father.__init__(self, father_name, grandfather_name)\n",
    "        \n",
    "    def print_name(self):\n",
    "        print(\"Grandfather name: \", self.grandfather_name)\n",
    "        print(\"Father name: \", self.father_name)     \n",
    "        print(\"Son name: \", self.son_name)     \n",
    "        \n",
    "s1 = Son(\"Atul\", \"Mohan\", \"Awadh Lal\")\n",
    "print(s1.grandfather_name)\n",
    "s1.print_name()"
   ]
  },
  {
   "cell_type": "markdown",
   "id": "56a1776c-f631-4cc5-bdaa-3b90a5412b11",
   "metadata": {},
   "source": [
    "\n",
    "4. HIERARCHICAL INHERITANCE:\n",
    "\n",
    "   When more than one derived class are created from a single base this type of inheritance is called hierarchical inheritance. In this program, we have a parent (base) class and two child (derived) classes."
   ]
  },
  {
   "cell_type": "code",
   "execution_count": 6,
   "id": "01734378-80ee-406e-a7aa-ccad45a72879",
   "metadata": {},
   "outputs": [
    {
     "name": "stdout",
     "output_type": "stream",
     "text": [
      "This function is in parent class.\n",
      "This function is in child 1.\n",
      "This function is in parent class.\n",
      "This function is in child 2.\n"
     ]
    }
   ],
   "source": [
    "# Python program to demonstrate\n",
    "# Hierarchical inheritance\n",
    " \n",
    "    \n",
    "# Base class\n",
    "class Parent:\n",
    "    def func1(self):\n",
    "        print(\"This function is in parent class.\")\n",
    "\n",
    "        \n",
    "# Derived class1\n",
    " \n",
    "class Child1(Parent):\n",
    "    def func2(self):\n",
    "        print(\"This function is in child 1.\")\n",
    "\n",
    "        \n",
    "# Derivied class2\n",
    " \n",
    "class Child2(Parent):\n",
    "    def func3(self):\n",
    "        print(\"This function is in child 2.\")\n",
    " \n",
    " \n",
    "# Driver's code\n",
    "object1 = Child1()\n",
    "object2 = Child2()\n",
    "object1.func1()\n",
    "object1.func2()\n",
    "object2.func1()\n",
    "object2.func3()"
   ]
  },
  {
   "cell_type": "markdown",
   "id": "9badce88-af67-412f-9248-a9959c2d7d07",
   "metadata": {},
   "source": [
    "\n",
    "5. HYBRID INHERITANCE:\n",
    "    \n",
    "   Inheritance consisting of multiple types of inheritance is called hybrid inheritance."
   ]
  },
  {
   "cell_type": "code",
   "execution_count": 7,
   "id": "1818edb5-7d28-4ad8-bff1-23df163698ab",
   "metadata": {},
   "outputs": [
    {
     "name": "stdout",
     "output_type": "stream",
     "text": [
      "This function is in school.\n",
      "This function is in student 1. \n"
     ]
    }
   ],
   "source": [
    "# Python program to demonstrate\n",
    "# hybrid inheritance\n",
    " \n",
    "class School:\n",
    "    def func1(self):\n",
    "        print(\"This function is in school.\")\n",
    " \n",
    " \n",
    "class Student1(School):\n",
    "    def func2(self):\n",
    "        print(\"This function is in student 1. \")\n",
    " \n",
    " \n",
    "class Student2(School):\n",
    "    def func3(self):\n",
    "        print(\"This function is in student 2.\")\n",
    " \n",
    " \n",
    "class Student3(Student1, School):\n",
    "    def func4(self):\n",
    "        print(\"This function is in student 3.\")\n",
    " \n",
    " \n",
    "# Driver's code\n",
    "object = Student3()\n",
    "object.func1()\n",
    "object.func2()"
   ]
  },
  {
   "cell_type": "code",
   "execution_count": null,
   "id": "99ddd6ee-ec13-4b25-8086-7e1f65428f22",
   "metadata": {},
   "outputs": [],
   "source": []
  }
 ],
 "metadata": {
  "kernelspec": {
   "display_name": "Python 3 (ipykernel)",
   "language": "python",
   "name": "python3"
  },
  "language_info": {
   "codemirror_mode": {
    "name": "ipython",
    "version": 3
   },
   "file_extension": ".py",
   "mimetype": "text/x-python",
   "name": "python",
   "nbconvert_exporter": "python",
   "pygments_lexer": "ipython3",
   "version": "3.10.8"
  }
 },
 "nbformat": 4,
 "nbformat_minor": 5
}

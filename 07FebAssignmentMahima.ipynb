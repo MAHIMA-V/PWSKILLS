{
 "cells": [
  {
   "cell_type": "code",
   "execution_count": 46,
   "id": "09ea38bc-ccd8-4c4c-8a48-84d342725301",
   "metadata": {},
   "outputs": [],
   "source": [
    "###ASSIGNMENT \n"
   ]
  },
  {
   "cell_type": "markdown",
   "id": "172bc316-6ba6-44bd-ada4-45d44f940355",
   "metadata": {},
   "source": [
    "Q1. You are writing code for a company. The requirement of the company is that you create a python\n",
    "function that will check whether the password entered by the user is correct or not. The function should\n",
    "take the password as input and return the string “Valid Password” if the entered password follows the\n",
    "below-given password guidelines else it should return “Invalid Password”.\n",
    "\n",
    "Note: \n",
    "1. The Password should contain at least two uppercase letters and at least two lowercase letters.\n",
    "2. The Password should contain at least a number and three special characters.\n",
    "3. The length of the password should be 10 characters long."
   ]
  },
  {
   "cell_type": "code",
   "execution_count": 7,
   "id": "019a6ea4-daf9-4e28-8c95-022494186324",
   "metadata": {},
   "outputs": [
    {
     "name": "stdin",
     "output_type": "stream",
     "text": [
      "Enter Your Password PassWo@?!2\n"
     ]
    },
    {
     "name": "stdout",
     "output_type": "stream",
     "text": [
      "10\n"
     ]
    },
    {
     "data": {
      "text/plain": [
       "'Valid Password'"
      ]
     },
     "execution_count": 7,
     "metadata": {},
     "output_type": "execute_result"
    }
   ],
   "source": [
    "def validate_password(password):\n",
    "    conditions = [2, 2, 1, 3, True] #this represent [0] for 2 upper and lowercase, [1] for 1 number, [2] for    \n",
    "    check = [0] * 5\n",
    "    \n",
    "    if len(password) == 10: \n",
    "        check[4] = True\n",
    "        \n",
    "    else:\n",
    "        return \"Invalid Password\"\n",
    "\n",
    "    for i in password:\n",
    "        ascii_code = ord(i)\n",
    "        if ascii_code >= 65 and ascii_code <= 90:\n",
    "            if check[0] < 2:\n",
    "                check[0] += 1 \n",
    "        \n",
    "        elif ascii_code >= 97 and ascii_code <= 122:\n",
    "            if check[1] < 2:\n",
    "                check[1] += 1\n",
    "            \n",
    "        elif ascii_code >= 48 and ascii_code <= 57:\n",
    "            if check[2] < 1:\n",
    "                check[2] +=1\n",
    "        \n",
    "        elif (ascii_code >= 33 and ascii_code <= 47) or (ascii_code >= 58 and ascii_code <= 64) or (ascii_code >= 91 and ascii_code <= 96) or (ascii_code >= 123 and ascii_code <= 126):\n",
    "            if check[3] < 3:\n",
    "                check[3] += 1\n",
    "            \n",
    "    if conditions == check:\n",
    "        return \"Valid Password\"\n",
    "    else:\n",
    "        return \"Invalid Password\"\n",
    "    \n",
    "\n",
    "password = input(\"Enter Your Password\")\n",
    "validate_password(password)"
   ]
  },
  {
   "cell_type": "code",
   "execution_count": null,
   "id": "88367868-5c6a-4169-aebb-3350d06e9ae2",
   "metadata": {},
   "outputs": [],
   "source": []
  },
  {
   "cell_type": "markdown",
   "id": "71cd31c5-da29-49da-a0cd-2b6af9f63bce",
   "metadata": {},
   "source": [
    "Q2. Solve the below-given questions using at least one of the following:\n",
    "1. Lambda function\n",
    "2. Filter function\n",
    "3. Map function\n",
    "4. List Comprehension\n",
    "  - Check if the string starts with a particular letter.\n",
    "  - Check if the string is numeric.\n",
    "  - Sort a list of tuples having fruit names and their quantity.[(\"mango\",99),(\"orange\",80), (\"grapes\", 1000)]\n",
    "  - Find the squares of numbers from 1 to 10.\n",
    "  - Find the cube root of numbers from 1 to 10.\n",
    "  - Check if a given number is even.\n",
    "  - Filter odd numbers from the given list.\n",
    "    [1,2,3,4,5,6,7,8,9,10]\n",
    "  - Sort a list of integers into positive and negative integers lists.\n",
    "    [1,2,3,4,5,6,-1,-2,-3,-4,-5,0]"
   ]
  },
  {
   "cell_type": "code",
   "execution_count": 4,
   "id": "259c1874-b4b7-4456-95b8-93e6d4f35755",
   "metadata": {},
   "outputs": [
    {
     "name": "stdout",
     "output_type": "stream",
     "text": [
      "False\n",
      "True\n"
     ]
    }
   ],
   "source": [
    "#Check if the string starts with a particular letter.\n",
    "is_start_with_A = lambda s : True if s[0] == 'A' else False\n",
    "print(is_start_with_A(\"Moon\"))\n",
    "print(is_start_with_A(\"Autumn\"))"
   ]
  },
  {
   "cell_type": "code",
   "execution_count": 20,
   "id": "41d17471-8f76-4e11-9e5d-b66cdfd8ad80",
   "metadata": {},
   "outputs": [
    {
     "name": "stdout",
     "output_type": "stream",
     "text": [
      "True\n",
      "False\n"
     ]
    }
   ],
   "source": [
    "#Check if the string is numeric.\n",
    "s = \"123578\"\n",
    "s1 = \"2we2332\"\n",
    "is_numeric = lambda s : s.isnumeric()\n",
    "print(is_numeric(s))\n",
    "print(is_numeric(s1))"
   ]
  },
  {
   "cell_type": "code",
   "execution_count": 24,
   "id": "563c554d-d216-4029-bb69-a1880d82fef1",
   "metadata": {},
   "outputs": [
    {
     "name": "stdout",
     "output_type": "stream",
     "text": [
      "[('orange', 80), ('mango', 99), ('grapes', 1000)]\n"
     ]
    }
   ],
   "source": [
    "#Sort a list of tuples having fruit names and their quantity.[(\"mango\",99),(\"orange\",80), (\"grapes\", 1000)]\n",
    "fruits_with_quantity = [(\"mango\",99),(\"orange\",80), (\"grapes\", 1000)]\n",
    "fruits_with_quantity.sort(key = lambda s: s[1])\n",
    "print(fruits_with_quantity)\n"
   ]
  },
  {
   "cell_type": "code",
   "execution_count": 26,
   "id": "5552eebe-af7b-4bc5-b60f-e84df198203a",
   "metadata": {},
   "outputs": [
    {
     "name": "stdout",
     "output_type": "stream",
     "text": [
      "[1, 4, 9, 16, 25, 36, 49, 64, 81, 100]\n"
     ]
    }
   ],
   "source": [
    "# Find the squares of numbers from 1 to 10.\n",
    "l1 = [i ** 2 for i in range(1, 11)]\n",
    "print(l1)"
   ]
  },
  {
   "cell_type": "code",
   "execution_count": 29,
   "id": "6eaede21-8d6d-4d15-806d-4ffa13815b8b",
   "metadata": {},
   "outputs": [
    {
     "data": {
      "text/plain": [
       "[1, 8, 27, 64, 125, 216, 343, 512, 729, 1000]"
      ]
     },
     "execution_count": 29,
     "metadata": {},
     "output_type": "execute_result"
    }
   ],
   "source": [
    "#Find the cube root of numbers from 1 to 10.\n",
    "l1 = list(range(1, 11))\n",
    "list(map(lambda s: s**3, l1))"
   ]
  },
  {
   "cell_type": "code",
   "execution_count": 32,
   "id": "d93d4bd1-fe36-4ddc-96a7-c3618f3c12cf",
   "metadata": {},
   "outputs": [
    {
     "data": {
      "text/plain": [
       "False"
      ]
     },
     "execution_count": 32,
     "metadata": {},
     "output_type": "execute_result"
    }
   ],
   "source": [
    "# Check if a given number is even.\n",
    "is_even = lambda num: True if num % 2 == 0 else False\n",
    "is_even(9)"
   ]
  },
  {
   "cell_type": "code",
   "execution_count": 37,
   "id": "4052f7e5-3a4b-485b-beac-da47ca699cb9",
   "metadata": {},
   "outputs": [
    {
     "data": {
      "text/plain": [
       "[1, 3, 5, 7, 9]"
      ]
     },
     "execution_count": 37,
     "metadata": {},
     "output_type": "execute_result"
    }
   ],
   "source": [
    "# Filter odd numbers from the given list. [1,2,3,4,5,6,7,8,9,10]\n",
    "l1 = [1,2,3,4,5,6,7,8,9,10]\n",
    "list(filter(lambda s: s % 2 != 0, l1))"
   ]
  },
  {
   "cell_type": "code",
   "execution_count": 44,
   "id": "338303fb-b675-4e59-a99f-bc3fba6a084d",
   "metadata": {},
   "outputs": [
    {
     "name": "stdout",
     "output_type": "stream",
     "text": [
      "[1, 2, 3, 4, 5, 6, 0]\n",
      "[-1, -2, -3, -4, -5]\n"
     ]
    }
   ],
   "source": [
    "# Sort a list of integers into positive and negative integers lists. [1,2,3,4,5,6,-1,-2,-3,-4,-5,0]\n",
    "l = [1,2,3,4,5,6,-1,-2,-3,-4,-5,0]\n",
    "l1_positive = [i for i in l if i >= 0]\n",
    "print(l1_positive)\n",
    "\n",
    "l_negative = [i for i in l if i < 0]\n",
    "print(l_negative)"
   ]
  },
  {
   "cell_type": "code",
   "execution_count": null,
   "id": "dd08710b-17e3-4004-ac7f-66945639e234",
   "metadata": {},
   "outputs": [],
   "source": []
  }
 ],
 "metadata": {
  "kernelspec": {
   "display_name": "Python 3 (ipykernel)",
   "language": "python",
   "name": "python3"
  },
  "language_info": {
   "codemirror_mode": {
    "name": "ipython",
    "version": 3
   },
   "file_extension": ".py",
   "mimetype": "text/x-python",
   "name": "python",
   "nbconvert_exporter": "python",
   "pygments_lexer": "ipython3",
   "version": "3.10.8"
  }
 },
 "nbformat": 4,
 "nbformat_minor": 5
}

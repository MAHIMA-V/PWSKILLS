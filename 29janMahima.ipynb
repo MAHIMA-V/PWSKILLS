{
 "cells": [
  {
   "cell_type": "markdown",
   "id": "cfcb9a07-838e-42cd-a350-f2be29537793",
   "metadata": {},
   "source": [
    "1. Who developed python programming language?\n",
    "- Guido Van Rossum is a dutch programmer who developed Python programming language."
   ]
  },
  {
   "cell_type": "markdown",
   "id": "f2eb5395-2e41-4b3e-84a2-3abdf3d07538",
   "metadata": {},
   "source": [
    "2. Which type of programming does python support?\n",
    "- Python support three programming paradigms: Imperative, Functional, and Object-Oriented progamming."
   ]
  },
  {
   "cell_type": "markdown",
   "id": "de9dba5f-89b2-4a29-8044-b5c0ca9c97e0",
   "metadata": {},
   "source": [
    "3. Is python case sensitive when dealing with identifiers?\n",
    "- Yes, Python is a case sensitive when dealing with identifiers i.e., it treats uppercased and lowercased identifier with same name differenntly. Example: 'Mahima' and 'mahima' are two different identifiers."
   ]
  },
  {
   "cell_type": "markdown",
   "id": "7f3b732c-79c6-4ed1-8345-f6129de2289d",
   "metadata": {},
   "source": [
    "4. What is the correct extension of the Python file?\n",
    "- .py is the correct extension of the Python file."
   ]
  },
  {
   "cell_type": "markdown",
   "id": "097426fb-c21d-4bc1-b986-d0f3f3f5daba",
   "metadata": {},
   "source": [
    "5. Is Python code compiled or interpreted?\n",
    "- Python is an interpreted language, which means the source code of a Python program is converted into bytecode that is then executed by the Python virtual machine. This makes it platform independent and dynamically typed programming language."
   ]
  },
  {
   "cell_type": "markdown",
   "id": "522a9a32-e3c7-4089-939b-ccbb7e1a41f4",
   "metadata": {},
   "source": [
    "6. Name a few blocks of code used to define in Python language?\n",
    "- A block is a section of Python code that is executed as a unit. A module, a function body, and a class definition are examples of blocks. Python uses indentation to mark blocks of code."
   ]
  },
  {
   "cell_type": "markdown",
   "id": "ec7a0a51-c5cf-43b4-b83e-e3f73d3e617e",
   "metadata": {},
   "source": [
    "7. State a character used to give single-line comments in Python?\n",
    "- Hash character(#) is a character used to give single-line comments in python. By placing a single '#' character before any statement or line of code, we can create a single-line comment."
   ]
  },
  {
   "cell_type": "markdown",
   "id": "20f47a13-042a-4cf5-8d8b-e4016cb5ea71",
   "metadata": {},
   "source": [
    "8. Mention functions which can help us to find the version of the python that we are currently working on?\n",
    " - Using python_version() function, we can find the version of the python that we are currently working on. This function is accessible by importing the platform library and will always return a string of the running user’s python version. Other ways to find the verion are:\n",
    "   - Using sys.version method\n",
    "   - Using Python -V command\n",
    " "
   ]
  },
  {
   "cell_type": "markdown",
   "id": "4749e7f3-ff7c-494c-9534-b8f220e0b564",
   "metadata": {},
   "source": [
    "9. Python supports the creation of anonymous functions at runtime, using a construct called ___________.\n",
    " - Python supports the creation of anonymous functions at runtime, using a construct called \"lambda\""
   ]
  },
  {
   "cell_type": "markdown",
   "id": "ca459501-5830-48e9-bcaa-5586e8985660",
   "metadata": {},
   "source": [
    "10. What does pip stand for python?\n",
    "- PIP stands for Preferred Installer Program, helps you to install libraries and dependencies, that doesn’t come with the standard package of Python. So, PIP is essentially a package manager for Python."
   ]
  },
  {
   "cell_type": "markdown",
   "id": "9118891f-5c75-4fd3-ae6e-2911e81ca66f",
   "metadata": {},
   "source": [
    "11. Mention a few built-in fundtions python?\n",
    "- A few built-in functions in python are:\n",
    "    - print( ) function\n",
    "    - type( ) function\n",
    "    - input( ) function\n",
    "    - abs( ) function\n",
    "    - pow( ) function\n",
    "    - dir( ) function\n",
    "    - sorted( ) function\n",
    "    - max( ) function\n",
    "    - round( ) function\n",
    "    - len( ) function\n",
    "    - sum( ) function"
   ]
  },
  {
   "cell_type": "markdown",
   "id": "6f640dd2-3ec5-42c6-ab11-3cd6a14cd46f",
   "metadata": {},
   "source": [
    "12. What is the maximum possible length of an identifier in python?\n",
    "- An identifier can have a maximum length of 79 characters in Python."
   ]
  },
  {
   "cell_type": "markdown",
   "id": "f85228fd-dd3a-4e4a-b948-8f23d2b1d608",
   "metadata": {},
   "source": [
    "13. What are the benefits of using Python?\n",
    "-  Python is a perfect language for multiple purposes, including:   \n",
    "   - Web app development\n",
    "   - Quick prototyping\n",
    "   - Scripting\n",
    "   - Data science\n",
    "   - Database programming\n",
    "- Python's user base is growing rapidly as it is used in all forms of programming. Some of these programming forms are quick automation, cross-platform shell scripting, simple web development, Artificial Intelligence, Machine Learning, data analysis and visualization.\n",
    "- Some of the biggest companies in the world use Python language for various purposes. For example, Pixar uses it to produce films, Google uses it to crawl web pages, Netflix uses it to deliver content, and Spotify uses it to recommend songs.\n",
    "- Python has a wide selection of libraries and frameworks, which is one of the greatest advantages of Python. From NumPy to TensorFlow Python Library is used for everything from data visualization, machine learning, data science, natural language processing, and complex data analysis."
   ]
  },
  {
   "cell_type": "markdown",
   "id": "b31636b7-2f33-4e25-9fe9-63c58d53e148",
   "metadata": {},
   "source": [
    "14. How is memory managed in Python?\n",
    "- Memory management in Python involves a private heap containing all Python objects and data structures. The management of this private heap is ensured internally by the Python memory manager. The Python memory manager has different components which deal with various dynamic storage management aspects, like sharing, segmentation, preallocation or caching."
   ]
  },
  {
   "cell_type": "markdown",
   "id": "f4dd6764-d476-4067-a9ad-51d478addc30",
   "metadata": {},
   "source": [
    "15. How to install Python on windows and set path variables?\n",
    "- Install python from this link https://www.python.org/downloads/. After this, install it on your PC. Look for the location where PYTHON has been installed on your PC using tge following command on your command prompt: cmd python.\n",
    "- Path will be set for executing Python programs by following the below steps:\n",
    "\n",
    "  - Right click on My Computer and click on properties.\n",
    "  - Click on Advanced System settings\n",
    "  - Click on Environment Variable tab.\n",
    "  - Click on new tab of user variables.\n",
    "  - Write path in variable name\n",
    "  - Copy the path of Python folder\n",
    "  - Paste path of Python in variable value.\n",
    "  - Click on Ok button.\n",
    "  - Click on Apply and Ok button."
   ]
  },
  {
   "cell_type": "markdown",
   "id": "146db385-b77e-42d0-9405-cadac338719b",
   "metadata": {},
   "source": [
    "16. Is indentation required in python?\n",
    "- Yes, Indentation is required in python. Indentation in Python is very important as it not only uses it for readability but it uses indentation to indicate a block of code."
   ]
  }
 ],
 "metadata": {
  "kernelspec": {
   "display_name": "Python 3 (ipykernel)",
   "language": "python",
   "name": "python3"
  },
  "language_info": {
   "codemirror_mode": {
    "name": "ipython",
    "version": 3
   },
   "file_extension": ".py",
   "mimetype": "text/x-python",
   "name": "python",
   "nbconvert_exporter": "python",
   "pygments_lexer": "ipython3",
   "version": "3.10.8"
  }
 },
 "nbformat": 4,
 "nbformat_minor": 5
}

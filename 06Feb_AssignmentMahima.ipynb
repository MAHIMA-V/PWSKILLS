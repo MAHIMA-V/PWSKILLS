{
 "cells": [
  {
   "cell_type": "markdown",
   "id": "b55d6163-fc3b-4fd7-aad5-fb9631c0e9a4",
   "metadata": {},
   "source": [
    "Q1. Create a function which will take a list as an argument and return the product of all the numbers\n",
    "after creating a flat list.\n",
    "\n",
    "Use the below-given list as an argument for your function.\n",
    "\n",
    "list1 = [1,2,3,4, [44,55,66, True], False, (34,56,78,89,34), {1,2,3,3,2,1}, {1:34, \"key2\": [55, 67, 78, 89], 4: (45,\n",
    "22, 61, 34)}, [56, 'data science'], 'Machine Learning']\n",
    "\n",
    "Note: you must extract numeric keys and values of the dictionary also."
   ]
  },
  {
   "cell_type": "code",
   "execution_count": 20,
   "id": "8c9d7055-b175-4114-8e88-6755fb50f43b",
   "metadata": {},
   "outputs": [],
   "source": [
    "list1 = [1,2,3,4, [44,55,66, True], False, (34,56,78,89,34), {1,2,3,3,2,1}, {1:34, \"key2\": [55, 67, 78, 89], 4: (45,\n",
    "22, 61, 34)}, [56, 'data science'], 'Machine Learning']"
   ]
  },
  {
   "cell_type": "code",
   "execution_count": 21,
   "id": "bb1693e8-b8e1-4ad6-9a22-f542370dd699",
   "metadata": {},
   "outputs": [],
   "source": [
    "from typing import List\n",
    "def product_of_number(lst):\n",
    "    flat_lst = []\n",
    "    \n",
    "    for i in lst:\n",
    "        \n",
    "        if isinstance(i, (int, float)):\n",
    "            flat_lst.append(i)\n",
    "            \n",
    "        elif isinstance(i, (tuple, list, set)):\n",
    "            for j in i:\n",
    "                if isinstance(j, (int, float)):\n",
    "                    flat_lst.append(j)\n",
    "                    \n",
    "        elif isinstance(i, dict):\n",
    "            for keys in i.keys():\n",
    "                if isinstance(keys, (int, float)):\n",
    "                    flat_lst.append(keys)\n",
    "            \n",
    "            for values in i.values():\n",
    "                if isinstance(values, (int, float)):\n",
    "                    flat_lst.append(values)\n",
    "                    \n",
    "                elif isinstance(values, (tuple, list)):\n",
    "                    for j in values:\n",
    "                        if isinstance(j, (int, float)):\n",
    "                            flat_lst.append(j)\n",
    "                            \n",
    "    flat_lst.remove(False)    \n",
    "    \n",
    "    print(flat_lst)\n",
    "    product = 1\n",
    "    for i in flat_lst:\n",
    "        product *= i\n",
    "    return product\n",
    "    "
   ]
  },
  {
   "cell_type": "code",
   "execution_count": 22,
   "id": "d6fd11a3-b2cf-42da-b700-d5098f5dd470",
   "metadata": {},
   "outputs": [
    {
     "name": "stdout",
     "output_type": "stream",
     "text": [
      "[1, 2, 3, 4, 44, 55, 66, True, 34, 56, 78, 89, 34, 1, 2, 3, 1, 4, 34, 55, 67, 78, 89, 45, 22, 61, 34, 56]\n"
     ]
    },
    {
     "data": {
      "text/plain": [
       "4134711838987085478833841242112000"
      ]
     },
     "execution_count": 22,
     "metadata": {},
     "output_type": "execute_result"
    }
   ],
   "source": [
    "product_of_number(list1)"
   ]
  },
  {
   "cell_type": "markdown",
   "id": "f53a7d18-0cf8-43da-834b-7cc063605a89",
   "metadata": {},
   "source": [
    "Q2. Write a python program for encrypting a message sent to you by your friend. The logic of encryption\n",
    "should be such that, for a the output should be z. For b, the output should be y. For c, the output should\n",
    "be x respectively. Also, the whitespace should be replaced with a dollar sign. Keep the punctuation\n",
    "marks unchanged.\n",
    "\n",
    "Input Sentence: I want to become a Data Scientist.\n",
    "\n",
    "Encrypt the above input sentence using the program you just created.\n",
    "\n",
    "Note: Convert the given input sentence into lowercase before encrypting. The final output should be\n",
    "lowercase."
   ]
  },
  {
   "cell_type": "code",
   "execution_count": 26,
   "id": "c1ee86a3-fd34-4d02-a6a4-6960dd7119cc",
   "metadata": {},
   "outputs": [],
   "source": [
    "def encrypt_message(string):\n",
    "    string = string.lower()\n",
    "    new_string = \"\"\n",
    "    for i in string:\n",
    "        ascii_code = ord(i)\n",
    "        if ascii_code == 32:\n",
    "            new_string += '$'\n",
    "            \n",
    "        elif ascii_code == 109:\n",
    "            new_string += 'n'\n",
    "            \n",
    "        elif ascii_code < 109:\n",
    "            k = (109 - ascii_code) + 1\n",
    "            new_string += chr(109+k)\n",
    "            \n",
    "        elif ascii_code > 109:\n",
    "            k = (ascii_code - 109) - 1\n",
    "            new_string += chr(109-k)\n",
    "    new_string += '.'\n",
    "            \n",
    "    print(new_string)"
   ]
  },
  {
   "cell_type": "code",
   "execution_count": 27,
   "id": "02f69b67-1f89-470e-84df-23df37679e2b",
   "metadata": {},
   "outputs": [
    {
     "name": "stdout",
     "output_type": "stream",
     "text": [
      "r$dzmg$gl$yvxlnv$z$wzgz$hxrvmgrhg­.\n"
     ]
    }
   ],
   "source": [
    "encrypt_message(\"I want to become a Data Scientist.\")"
   ]
  },
  {
   "cell_type": "code",
   "execution_count": null,
   "id": "2dabaa59-0afd-4e6a-90da-fdef30e132c0",
   "metadata": {},
   "outputs": [],
   "source": []
  }
 ],
 "metadata": {
  "kernelspec": {
   "display_name": "Python 3 (ipykernel)",
   "language": "python",
   "name": "python3"
  },
  "language_info": {
   "codemirror_mode": {
    "name": "ipython",
    "version": 3
   },
   "file_extension": ".py",
   "mimetype": "text/x-python",
   "name": "python",
   "nbconvert_exporter": "python",
   "pygments_lexer": "ipython3",
   "version": "3.10.8"
  }
 },
 "nbformat": 4,
 "nbformat_minor": 5
}

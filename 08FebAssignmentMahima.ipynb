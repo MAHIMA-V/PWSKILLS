{
 "cells": [
  {
   "cell_type": "markdown",
   "id": "0152337e-2dc8-42f5-b609-08b6e990e3f9",
   "metadata": {},
   "source": [
    "Q1. What is Abstraction in OOps? Explain with an example."
   ]
  },
  {
   "cell_type": "markdown",
   "id": "26c218b2-f453-4a4c-9847-69d17902fc03",
   "metadata": {
    "tags": []
   },
   "source": [
    "Abstraction is used to hide the internal functionality of the function from the users. The users only interact with the basic implementation of the function, but inner working is hidden. User is familiar with that \"what function does\" but they don't know \"how it does.\" In simple words, we all use the smartphone and very much familiar with its functions such as camera, voice-recorder, call-dialing, etc., but we don't know how these operations are happening in the background.\n",
    "\n",
    "In Python, abstraction can be achieved by using abstract classes and interfaces. A class that consists of one or more abstract method is called the abstract class. Abstract methods do not contain their implementation. Abstract class can be inherited by the subclass and abstract method gets its definition in the subclass. Abstraction classes are meant to be the blueprint of the other class. An abstract class can be useful when we are designing large functions. An abstract class is also helpful to provide the standard interface for different implementations of components. Python provides the abc module to use the abstraction in the Python program. "
   ]
  },
  {
   "cell_type": "code",
   "execution_count": 3,
   "id": "720e63e7-1e06-4cf8-b6b9-2844885b0147",
   "metadata": {
    "tags": []
   },
   "outputs": [
    {
     "name": "stdout",
     "output_type": "stream",
     "text": [
      "This is the syllabus for data science masters class\n",
      "This is syllabus for web development\n"
     ]
    }
   ],
   "source": [
    "import abc\n",
    "class pwskills:\n",
    "    @abc.abstractmethod\n",
    "    def syllabus(self):\n",
    "        pass\n",
    "    \n",
    "class Data_science(pwskills):\n",
    "    def syllabus(self):\n",
    "        print(\"This is the syllabus for data science masters class\")\n",
    "\n",
    "class Web_dev(pwskills):\n",
    "    def syllabus(self):\n",
    "        print(\"This is syllabus for web development\")\n",
    "        \n",
    "        \n",
    "        \n",
    "dsm = Data_science()\n",
    "wd = Web_dev()\n",
    "dsm.syllabus()\n",
    "wd.syllabus()"
   ]
  },
  {
   "cell_type": "code",
   "execution_count": null,
   "id": "2ba7a788-05f1-4621-8c81-58f26e57f793",
   "metadata": {},
   "outputs": [],
   "source": []
  },
  {
   "cell_type": "markdown",
   "id": "d6a9f905-6781-4a74-9a03-f5142ebf962f",
   "metadata": {},
   "source": [
    "Differentiate between Abstraction and Encapsulation. Explain with an example."
   ]
  },
  {
   "cell_type": "markdown",
   "id": "8642e12f-11c3-4b68-b5bc-029ae83363a5",
   "metadata": {},
   "source": [
    "Abstraction-----------------------------------------------------------------------Encapsulation\n",
    "\n",
    "It is the process of gaining information.----------------------------------------It is a method that helps wrap up data into a single module.\n",
    "\n",
    "The problems in this technique are solved at the interface level.--------------Problems in encapsulation are solved at the implementation level.\n",
    "\n",
    "It helps hide the unwanted details/information.--------------------------------It helps hide data using a single entity with the help of method that helps protect the information.\n",
    "\n",
    "It can be implemented using abstract classes and interfaces.------------------It can be implemented using access modifires. \n",
    "\n",
    "The complexities of the implementation are hidden using interface----------The data is hidden using methods such as getters and setters.\n",
    "and abstract class.\n"
   ]
  },
  {
   "cell_type": "code",
   "execution_count": 8,
   "id": "2244cdb5-834e-4205-abd1-dce3edfb9ff1",
   "metadata": {},
   "outputs": [
    {
     "name": "stdout",
     "output_type": "stream",
     "text": [
      "28kmph\n",
      "22Kmph\n"
     ]
    }
   ],
   "source": [
    "# exapmle for Abstraction\n",
    "import abc\n",
    "class car:\n",
    "    @abc.abstractmethod\n",
    "    def mileage(self):\n",
    "        pass\n",
    "    \n",
    "class Tesla(car):\n",
    "    def mileage(self):\n",
    "        print(\"28kmph\")\n",
    "\n",
    "class Ford(car):\n",
    "    def mileage(self):\n",
    "        print(\"22Kmph\")\n",
    "        \n",
    "        \n",
    "        \n",
    "tesla = Tesla()\n",
    "ford = Ford()\n",
    "tesla.mileage()\n",
    "ford.mileage()\n"
   ]
  },
  {
   "cell_type": "code",
   "execution_count": 7,
   "id": "b85e889f-7bd9-4660-ad3d-96e96d2f50ee",
   "metadata": {},
   "outputs": [
    {
     "data": {
      "text/plain": [
       "('Jess', 123221, 125000)"
      ]
     },
     "execution_count": 7,
     "metadata": {},
     "output_type": "execute_result"
    }
   ],
   "source": [
    "#example for Encapsulation\n",
    "class Employee:\n",
    "    def __init__(self, name, employee_id , salary):\n",
    "        #public access modifier\n",
    "        self.name = name\n",
    "        \n",
    "        #protected access modifier\n",
    "        self._employee_id = employee_id\n",
    "        \n",
    "        #private access modifier\n",
    "        self.__salary = salary\n",
    "        \n",
    "    def get_details(self):\n",
    "        return self.name, self._employee_id, self.__salary\n",
    "    \n",
    "emp1 = Employee(\"Jess\", 123221, 125000)\n",
    "emp1.get_details()"
   ]
  },
  {
   "cell_type": "code",
   "execution_count": null,
   "id": "e470d3bb-6d3e-43fa-a9e3-0fe2fffa0ec2",
   "metadata": {},
   "outputs": [],
   "source": []
  },
  {
   "cell_type": "markdown",
   "id": "8ea11fcc-379a-446d-b433-2067cf9756e0",
   "metadata": {},
   "source": [
    "What is abc module in python? Why is it used?"
   ]
  },
  {
   "cell_type": "markdown",
   "id": "fbefb862-205a-4aee-a335-97d42a80f808",
   "metadata": {},
   "source": [
    "An Abstract class is one of important concept in object oriented programming(oops). It is like blueprint for other classes.\n",
    "\n",
    "By default, Python does not provide abstract classes. The ‘abc’ module in the Python library provides the infrastructure for defining custom abstract base classes. Abstract class cannot be instantiated in python. An Abstract method can be call by its subclasses. Abstract classes are used to create a blueprint of our classes as they don't contain the method implementation. This is a very useful capability, especially in situations where child classes should provide their own separate implementation. Also, in complex projects involving large teams and a huge codebase, It is fairly difficult to remember all the class names. For larger projects, it is impossible to remember the class details, and also the reusability of code can increase the bug. Therefore, it plays a crucial role in our projects.\n",
    "\n",
    "The above module provides us the following:\n",
    " - ABCMeta\n",
    " - ABC ( helper class )\n",
    " \n",
    "The ABC class from the abc module can be used to create an abstract class. ABC is a helper class that has ABCMeta as its metaclass, and we can also define abstract classes by passing the metaclass keyword and using ABCMeta "
   ]
  },
  {
   "cell_type": "code",
   "execution_count": null,
   "id": "84144c87-b610-45d5-8003-5716a2184a4f",
   "metadata": {},
   "outputs": [],
   "source": []
  },
  {
   "cell_type": "markdown",
   "id": "7fb49a25-8b71-40ee-aefc-64919a763c6a",
   "metadata": {},
   "source": [
    "How can we achieve data abstraction?"
   ]
  },
  {
   "cell_type": "markdown",
   "id": "d6aa320e-dabb-4819-82ec-e5716f3f0a97",
   "metadata": {},
   "source": [
    "In Python, abstraction can be achieved by having/using abstract classes and methods in our programs. An abstract method is a method that is declared, but does not contain implementation. An abstract method in a base class identifies the functionality that should be implemented by all its subclasses. However, since the implementation of an abstract method would differ from one subclass to another, often the method body comprises just a pass statement. Every subclass of the base class will ride this method with its implementation. A class containing abstract methods is called abstract class.Python provides the abc module to use the abstraction in the Python program."
   ]
  },
  {
   "cell_type": "code",
   "execution_count": null,
   "id": "b30fb13e-e8df-4e0a-9f4b-2987ce9b89fa",
   "metadata": {},
   "outputs": [],
   "source": []
  },
  {
   "cell_type": "markdown",
   "id": "efe0c19d-fc99-4469-bd63-9972e15fa0d9",
   "metadata": {},
   "source": [
    "Can we create an instance of an abstract class? Explain your answer."
   ]
  },
  {
   "cell_type": "markdown",
   "id": "201dfb28-4c10-4480-bd84-1a8ba9de2515",
   "metadata": {},
   "source": [
    "An abstract class doesn’t contain all of the method implementations required to work completely, which means it contains one or more abstract methods. An abstract method is a method that just has a declaration but does not have a detail implementation. An abstract class cannot be instantiated. It just provides an interface for subclasses to avoid code duplication. It makes no sense to instantiate an abstract class."
   ]
  },
  {
   "cell_type": "code",
   "execution_count": null,
   "id": "ad460042-2e38-45d1-8950-fa7681592bbf",
   "metadata": {},
   "outputs": [],
   "source": []
  }
 ],
 "metadata": {
  "kernelspec": {
   "display_name": "Python 3 (ipykernel)",
   "language": "python",
   "name": "python3"
  },
  "language_info": {
   "codemirror_mode": {
    "name": "ipython",
    "version": 3
   },
   "file_extension": ".py",
   "mimetype": "text/x-python",
   "name": "python",
   "nbconvert_exporter": "python",
   "pygments_lexer": "ipython3",
   "version": "3.10.8"
  }
 },
 "nbformat": 4,
 "nbformat_minor": 5
}
